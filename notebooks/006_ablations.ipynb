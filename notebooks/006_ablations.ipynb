{
 "cells": [
  {
   "cell_type": "markdown",
   "id": "ca8685e1",
   "metadata": {},
   "source": [
    "# 006: Running ablations"
   ]
  },
  {
   "cell_type": "code",
   "execution_count": 1,
   "id": "f26b1d13",
   "metadata": {},
   "outputs": [],
   "source": [
    "import json\n",
    "from dataclasses import asdict\n",
    "import sys\n",
    "\n",
    "import matplotlib.pyplot as plt\n",
    "import numpy as np\n",
    "\n",
    "sys.path.append(\"../\")\n",
    "from preprocessing import preprocess\n",
    "from metrics import f_score\n",
    "from models import OrdinaryLeastSquares, LogisticRegression, test_val_split\n",
    "from model_selection import cross_validation\n",
    "\n",
    "%load_ext autoreload\n",
    "%autoreload 2"
   ]
  },
  {
   "cell_type": "code",
   "execution_count": 2,
   "id": "667b9233",
   "metadata": {},
   "outputs": [],
   "source": [
    "ABLATION_MODEL = OrdinaryLeastSquares"
   ]
  },
  {
   "cell_type": "code",
   "execution_count": 2,
   "id": "33df1df8",
   "metadata": {},
   "outputs": [],
   "source": [
    "def append_jsonl(obj, path):\n",
    "    \"\"\"Append a dataclass (or dict) as one JSON line to a file.\"\"\"\n",
    "    if not isinstance(obj, dict):\n",
    "        obj = asdict(obj)\n",
    "    with open(path, \"a\", encoding=\"utf-8\") as f:\n",
    "        json.dump(obj, f)\n",
    "        f.write(\"\\n\")"
   ]
  },
  {
   "cell_type": "markdown",
   "id": "6765883e",
   "metadata": {},
   "source": [
    "# Preprocessing ablations"
   ]
  },
  {
   "cell_type": "code",
   "execution_count": 4,
   "id": "49b1f2af",
   "metadata": {},
   "outputs": [],
   "source": [
    "def run_preprocessing_ablation(kwarg_list, num_samples = int(1e5), num_folds = 5):\n",
    "    mean_f1 = []\n",
    "\n",
    "    for cv_kw in kwarg_list:\n",
    "        print(\"Running with args:\", cv_kw)\n",
    "        x_train, _, y_train, _ = preprocess(**cv_kw)\n",
    "        \n",
    "        cv_results = cross_validation(x_train[:num_samples], y_train[:num_samples], num_folds=num_folds, verbose=False, model_class=ABLATION_MODEL)\n",
    "        mean_f1.append(np.mean(cv_results.f1_scores))\n",
    "\n",
    "    for i, (cv_kw, mean) in enumerate(zip(kwarg_list, mean_f1)):\n",
    "        print(cv_kw)\n",
    "        print(f\"{mean - mean_f1[0]}\" if i > 0 else mean)"
   ]
  },
  {
   "cell_type": "markdown",
   "id": "5af0100a",
   "metadata": {},
   "source": [
    "## replace_nan_codes"
   ]
  },
  {
   "cell_type": "code",
   "execution_count": 5,
   "id": "07a8ab47",
   "metadata": {},
   "outputs": [
    {
     "name": "stdout",
     "output_type": "stream",
     "text": [
      "Running with args: {'replace_nan_codes': True}\n",
      "Loading raw data...\n",
      "Replacing missing value codes with np.nan...\n",
      "Applying one-hot encoding...\n",
      "Starting fold 1/5 with 80000 samples\n",
      "Starting fold 2/5 with 80000 samples\n",
      "Starting fold 3/5 with 80000 samples\n",
      "Starting fold 4/5 with 80000 samples\n",
      "Starting fold 5/5 with 80000 samples\n",
      "Running with args: {'replace_nan_codes': False}\n",
      "Loading raw data...\n",
      "Applying one-hot encoding...\n",
      "Starting fold 1/5 with 80000 samples\n",
      "Starting fold 2/5 with 80000 samples\n",
      "Starting fold 3/5 with 80000 samples\n",
      "Starting fold 4/5 with 80000 samples\n",
      "Starting fold 5/5 with 80000 samples\n",
      "{'replace_nan_codes': True}\n",
      "0.4186167334097085\n",
      "{'replace_nan_codes': False}\n",
      "-0.016125110868123294\n"
     ]
    }
   ],
   "source": [
    "kwarg_list = [{\"replace_nan_codes\": True}, {\"replace_nan_codes\": False}]\n",
    "run_preprocessing_ablation(kwarg_list)"
   ]
  },
  {
   "cell_type": "markdown",
   "id": "bb8887d1",
   "metadata": {},
   "source": [
    "## one hot encoding"
   ]
  },
  {
   "cell_type": "code",
   "execution_count": 7,
   "id": "566bc5f6",
   "metadata": {},
   "outputs": [
    {
     "name": "stdout",
     "output_type": "stream",
     "text": [
      "Running with args: {'one_hot_encoding': True}\n",
      "Loading raw data...\n",
      "Replacing missing value codes with np.nan...\n",
      "Applying one-hot encoding...\n",
      "Starting fold 1/5 with 80000 samples\n",
      "Starting fold 2/5 with 80000 samples\n",
      "Starting fold 3/5 with 80000 samples\n",
      "Starting fold 4/5 with 80000 samples\n",
      "Starting fold 5/5 with 80000 samples\n",
      "Running with args: {'one_hot_encoding': False}\n",
      "Loading raw data...\n",
      "Replacing missing value codes with np.nan...\n",
      "Starting fold 1/5 with 80000 samples\n",
      "Starting fold 2/5 with 80000 samples\n",
      "Starting fold 3/5 with 80000 samples\n",
      "Starting fold 4/5 with 80000 samples\n",
      "Starting fold 5/5 with 80000 samples\n",
      "{'one_hot_encoding': True}\n",
      "0.4186167334097085\n",
      "{'one_hot_encoding': False}\n",
      "0.0013408553548122093\n"
     ]
    }
   ],
   "source": [
    "kwarg_list = [{\"one_hot_encoding\": True}, {\"one_hot_encoding\": False}]\n",
    "run_preprocessing_ablation(kwarg_list, num_samples = int(1e5))"
   ]
  },
  {
   "cell_type": "markdown",
   "id": "c8037e9f",
   "metadata": {},
   "source": [
    "# Model ablations"
   ]
  },
  {
   "cell_type": "code",
   "execution_count": 3,
   "id": "10b00e1e",
   "metadata": {},
   "outputs": [
    {
     "name": "stdout",
     "output_type": "stream",
     "text": [
      "Loading raw data...\n",
      "Replacing missing value codes with np.nan...\n",
      "Applying one-hot encoding...\n"
     ]
    }
   ],
   "source": [
    "x_train, _, y_train, _ = preprocess() # fixed preprocessed data\n",
    "def run_model_ablation(kwarg_list, num_samples = int(1e5), num_folds = 5):\n",
    "    mean_f1 = []\n",
    "\n",
    "    for cv_kw in kwarg_list:\n",
    "        print(\"Running with args:\", cv_kw)\n",
    "        cv_results = cross_validation(x_train[:num_samples], y_train[:num_samples], num_folds=num_folds, verbose=False, model_class=ABLATION_MODEL, **cv_kw)\n",
    "        mean_f1.append(np.mean(cv_results.f1_scores))\n",
    "\n",
    "    for i, (cv_kw, mean) in enumerate(zip(kwarg_list, mean_f1)):\n",
    "        print(cv_kw)\n",
    "        print(f\"{mean - mean_f1[0]}\" if i > 0 else mean)"
   ]
  },
  {
   "cell_type": "markdown",
   "id": "8d3868f4",
   "metadata": {},
   "source": [
    "## squared features"
   ]
  },
  {
   "cell_type": "code",
   "execution_count": 11,
   "id": "7724c589",
   "metadata": {},
   "outputs": [
    {
     "name": "stdout",
     "output_type": "stream",
     "text": [
      "Running with args: {'squared_features': True}\n",
      "Starting fold 1/5 with 80000 samples\n",
      "Starting fold 2/5 with 80000 samples\n",
      "Starting fold 3/5 with 80000 samples\n",
      "Starting fold 4/5 with 80000 samples\n",
      "Starting fold 5/5 with 80000 samples\n",
      "Running with args: {'squared_features': False}\n",
      "Starting fold 1/5 with 80000 samples\n",
      "Starting fold 2/5 with 80000 samples\n",
      "Starting fold 3/5 with 80000 samples\n",
      "Starting fold 4/5 with 80000 samples\n",
      "Starting fold 5/5 with 80000 samples\n",
      "{'squared_features': True}\n",
      "0.4186167334097085\n",
      "{'squared_features': False}\n",
      "0.0013070428060614758\n"
     ]
    }
   ],
   "source": [
    "kwarg_list = [{\"squared_features\": True}, {\"squared_features\": False}]\n",
    "run_model_ablation(kwarg_list, num_samples = int(1e5))"
   ]
  },
  {
   "cell_type": "markdown",
   "id": "c5f1955f",
   "metadata": {},
   "source": [
    "## "
   ]
  },
  {
   "cell_type": "markdown",
   "id": "64005472",
   "metadata": {},
   "source": [
    "## Weighting"
   ]
  },
  {
   "cell_type": "code",
   "execution_count": 12,
   "id": "fe07ba8c",
   "metadata": {},
   "outputs": [
    {
     "name": "stdout",
     "output_type": "stream",
     "text": [
      "Running with args: {'weighting': True}\n",
      "Starting fold 1/5 with 80000 samples\n",
      "Starting fold 2/5 with 80000 samples\n",
      "Starting fold 3/5 with 80000 samples\n",
      "Starting fold 4/5 with 80000 samples\n",
      "Starting fold 5/5 with 80000 samples\n",
      "Running with args: {'weighting': False}\n",
      "Starting fold 1/5 with 80000 samples\n",
      "Starting fold 2/5 with 80000 samples\n",
      "Starting fold 3/5 with 80000 samples\n",
      "Starting fold 4/5 with 80000 samples\n",
      "Starting fold 5/5 with 80000 samples\n",
      "{'weighting': True}\n",
      "0.4181783307545988\n",
      "{'weighting': False}\n",
      "-0.005147069219760769\n"
     ]
    }
   ],
   "source": [
    "kwarg_list = [{\"weighting\": True}, {\"weighting\": False}]\n",
    "run_model_ablation(kwarg_list)"
   ]
  },
  {
   "cell_type": "markdown",
   "id": "19fbfec4",
   "metadata": {},
   "source": [
    "## Data Regularization"
   ]
  },
  {
   "cell_type": "code",
   "execution_count": 14,
   "id": "5ef9d67e",
   "metadata": {},
   "outputs": [
    {
     "name": "stdout",
     "output_type": "stream",
     "text": [
      "Running sample size: 100\n",
      " Seed: 38235\n"
     ]
    },
    {
     "name": "stderr",
     "output_type": "stream",
     "text": [
      "/data/glandorf/cs433project1/notebooks/../preprocessing.py:101: RuntimeWarning: Mean of empty slice\n",
      "  col_means = np.nanmean(train, axis=0)\n"
     ]
    },
    {
     "name": "stdout",
     "output_type": "stream",
     "text": [
      "0.7272727272727274 0.16220310555645728\n",
      " Seed: 34357\n",
      "0.6666666666666666 0.10729215048769158\n",
      " Seed: 2160\n",
      "0.631578947368421 0.1885635864592864\n",
      " Seed: 5723\n",
      "0.6363636363636365 0.15946010511227904\n",
      " Seed: 33828\n",
      "0.5 0.1331991698635306\n",
      "Running sample size: 500\n",
      " Seed: 38235\n",
      "0.3838383838383838 0.17591925018024512\n",
      " Seed: 34357\n",
      "0.4033613445378152 0.24293596388563782\n",
      " Seed: 2160\n",
      "0.42500000000000004 0.16799495441775128\n",
      " Seed: 5723\n",
      "0.32183908045977017 0.23957188589994746\n",
      " Seed: 33828\n",
      "0.3181818181818182 0.21712935617247492\n",
      "Running sample size: 1000\n",
      " Seed: 38235\n",
      "0.3451327433628319 0.24846260189731612\n",
      " Seed: 34357\n",
      "0.3225806451612903 0.2421007482247534\n",
      " Seed: 2160\n",
      "0.297029702970297 0.23184001568473678\n",
      " Seed: 5723\n",
      "0.2804878048780488 0.1725435184594784\n",
      " Seed: 33828\n",
      "0.2717391304347826 0.20841310650402056\n",
      "Running sample size: 5000\n",
      " Seed: 38235\n",
      "0.2822655524605386 0.254064377882331\n",
      " Seed: 34357\n",
      "0.2546816479400749 0.20813028981790205\n",
      " Seed: 2160\n",
      "0.1726844583987441 0.17628648373244046\n",
      " Seed: 5723\n",
      "0.23142250530785563 0.1977173548170527\n",
      " Seed: 33828\n",
      "0.25891946992864423 0.23392036753445636\n",
      "Running sample size: 10000\n",
      " Seed: 38235\n",
      "0.26739023186975824 0.24828792073437275\n",
      " Seed: 34357\n",
      "0.2399559713813979 0.23162832253741344\n",
      " Seed: 2160\n",
      "0.20982142857142858 0.22596313058836515\n",
      " Seed: 5723\n",
      "0.26355140186915893 0.251780092031969\n",
      " Seed: 33828\n",
      "0.2302158273381295 0.2247415105232772\n",
      "Running sample size: 20000\n",
      " Seed: 38235\n",
      "0.26947667534927777 0.2577129046016776\n",
      " Seed: 34357\n",
      "0.2852846401718582 0.2721575649059982\n",
      " Seed: 2160\n",
      "0.25401256106071185 0.2677866061293984\n",
      " Seed: 5723\n",
      "0.26004831978915 0.2623803009575923\n",
      " Seed: 33828\n",
      "0.24848178137651825 0.24540893370354133\n",
      "Running sample size: 50000\n",
      " Seed: 38235\n",
      "0.2850021486892995 0.27699995692069096\n",
      " Seed: 34357\n",
      "0.28820243181071314 0.27929790425230044\n",
      " Seed: 2160\n",
      "0.27744329896907216 0.2809156607049134\n",
      " Seed: 5723\n",
      "0.27883584796768074 0.2872651356993737\n",
      " Seed: 33828\n",
      "0.28096301811863983 0.28286461739699154\n",
      "Running sample size: 100000\n",
      " Seed: 38235\n",
      "0.2909204660983812 0.2924616828276509\n",
      " Seed: 34357\n",
      "0.2956827117608886 0.28863861197777946\n",
      " Seed: 2160\n",
      "0.28723527369517415 0.28873668188736684\n",
      " Seed: 5723\n",
      "0.291631380398799 0.2975512089943016\n",
      " Seed: 33828\n",
      "0.29087752525252525 0.2910706629769654\n",
      "Running sample size: 200000\n",
      " Seed: 38235\n",
      "0.3036612426035503 0.3049894588896697\n",
      " Seed: 34357\n",
      "0.30424142055386877 0.2980224950378593\n",
      " Seed: 2160\n",
      "0.30304891265082007 0.3040275931448281\n",
      " Seed: 5723\n",
      "0.3046914289819671 0.30767561310858715\n",
      " Seed: 33828\n",
      "0.3034584944526761 0.3039769659888429\n",
      "Running sample size: 100\n",
      " Seed: 38235\n",
      "1.0 0.19236184442097853\n",
      " Seed: 34357\n",
      "1.0 0.11822609056056368\n",
      " Seed: 2160\n",
      "1.0 0.18144360789601827\n",
      " Seed: 5723\n",
      "1.0 0.18867113632456595\n",
      " Seed: 33828\n",
      "1.0 0.1349504612230953\n",
      "Running sample size: 500\n",
      " Seed: 38235\n",
      "1.0 0.16049019030224473\n",
      " Seed: 34357\n",
      "1.0 0.14936769267477928\n",
      " Seed: 2160\n",
      "1.0 0.16780589380290617\n",
      " Seed: 5723\n",
      "1.0 0.16549450549450548\n",
      " Seed: 33828\n",
      "1.0 0.16827857220827422\n",
      "Running sample size: 1000\n",
      " Seed: 38235\n",
      "0.8595744680851063 0.22851791149613676\n",
      " Seed: 34357\n",
      "0.8521739130434782 0.2258788332086761\n",
      " Seed: 2160\n",
      "0.7982832618025751 0.21957625634739977\n",
      " Seed: 5723\n",
      "0.8558951965065502 0.21586358351634152\n",
      " Seed: 33828\n",
      "0.8387096774193548 0.2437206912057558\n",
      "Running sample size: 5000\n",
      " Seed: 38235\n",
      "0.5164556962025316 0.33259089625748967\n",
      " Seed: 34357\n",
      "0.5169648365206663 0.34503620863507195\n",
      " Seed: 2160\n",
      "0.4741275571600481 0.3307189155592388\n",
      " Seed: 5723\n",
      "0.4914756025867137 0.31836612999403696\n",
      " Seed: 33828\n",
      "0.5119496855345912 0.33207756916996045\n",
      "Running sample size: 10000\n",
      " Seed: 38235\n",
      "0.4425705146845013 0.3584550164861046\n",
      " Seed: 34357\n",
      "0.46359152886568034 0.3610192797168017\n",
      " Seed: 2160\n",
      "0.436551131480951 0.3489417387346382\n",
      " Seed: 5723\n",
      "0.4439461883408071 0.3495890724778786\n",
      " Seed: 33828\n",
      "0.43826086956521737 0.3507235449351854\n",
      "Running sample size: 20000\n",
      " Seed: 38235\n",
      "0.4148251748251748 0.371247980499419\n",
      " Seed: 34357\n",
      "0.4154774972557629 0.3652321321157106\n",
      " Seed: 2160\n",
      "0.3971611846594786 0.3631859550864344\n",
      " Seed: 5723\n",
      "0.4084353741496599 0.3626934383493261\n",
      " Seed: 33828\n",
      "0.3999444135630906 0.3676850499831517\n",
      "Running sample size: 50000\n",
      " Seed: 38235\n",
      "0.3957849229937854 0.37522818298231747\n",
      " Seed: 34357\n",
      "0.3919560463007414 0.3720448937355727\n",
      " Seed: 2160\n",
      "0.38143116910899555 0.3706912491085343\n",
      " Seed: 5723\n",
      "0.3829059829059829 0.3726319760704951\n",
      " Seed: 33828\n",
      "0.39249202142045764 0.37555368352400875\n",
      "Running sample size: 100000\n",
      " Seed: 38235\n",
      "0.38145723448805957 0.3746788504833797\n",
      " Seed: 34357\n",
      "0.3848588762859404 0.3738440177097797\n",
      " Seed: 2160\n",
      "0.37702363660372373 0.37265100232612836\n",
      " Seed: 5723\n",
      "0.37969815892748965 0.37251250399063535\n",
      " Seed: 33828\n",
      "0.3844367944920343 0.37559111918565813\n",
      "Running sample size: 200000\n",
      " Seed: 38235\n",
      "0.3787906683148786 0.3775375692064329\n",
      " Seed: 34357\n",
      "0.3795703326159006 0.37699931826524724\n",
      " Seed: 2160\n",
      "0.37836626550492336 0.3744583094032267\n",
      " Seed: 5723\n",
      "0.3806850231533104 0.3747285918551078\n",
      " Seed: 33828\n",
      "0.3793914100058112 0.377036997717501\n",
      "[np.float64(0.6323763955342903), np.float64(0.3704441254035574), np.float64(0.30339400536145017), np.float64(0.23999472680717152), np.float64(0.24218697220597463), np.float64(0.2634607955495032), np.float64(0.2820893491110811), np.float64(0.29126947144115367), np.float64(0.3038202998485765), np.float64(1.0), np.float64(1.0), np.float64(0.8409273033714129), np.float64(0.5021946756009102), np.float64(0.4449840465874314), np.float64(0.4071687288906333), np.float64(0.38891402854599255), np.float64(0.38149494015944957), np.float64(0.3793607399189648)]\n",
      "[np.float64(0.150143623495849), np.float64(0.20871028211121131), np.float64(0.22067199815406102), np.float64(0.21402377475683648), np.float64(0.2364801952830795), np.float64(0.26108926205964156), np.float64(0.281468654994854), np.float64(0.29169176973281286), np.float64(0.30373842523395744), np.float64(0.16313062808504436), np.float64(0.16228737089654197), np.float64(0.22671145515486196), np.float64(0.3317579439231596), np.float64(0.3537457304701217), np.float64(0.36600891120680834), np.float64(0.37322999708418564), np.float64(0.3738554987391162), np.float64(0.37615215728950313)]\n"
     ]
    }
   ],
   "source": [
    "num_samples = [int(1e2), int(5e2), int(1e3), int(5e3), int(1e4), int(2e4), int(5e4), int(1e5), int(2e5)]\n",
    "f1_train_scores, f1_val_scores = {}, {}\n",
    "seeds = list(np.random.randint(0, 2**16 - 1, size=5))\n",
    "test_size = 100000\n",
    "for _lambda in [10000,0]:\n",
    "    f1_train_scores[_lambda] = {}\n",
    "    f1_val_scores[_lambda] = {}\n",
    "    for n in num_samples:\n",
    "        print(f\"Running sample size: {n}\")\n",
    "        f1_train_scores[_lambda][n] = []\n",
    "        f1_val_scores[_lambda][n] = []\n",
    "        for seed in seeds:\n",
    "            print(f\" Seed: {seed}\")\n",
    "            rng = np.random.default_rng(seed)\n",
    "            idxs = rng.choice(x_train.shape[0], size=n+test_size, replace=False)\n",
    "            x_sample = x_train[idxs[:n]]\n",
    "            y_sample = y_train[idxs[:n]]\n",
    "            x_val_sample = x_train[idxs[n:]]\n",
    "            y_val_sample = y_train[idxs[n:]]\n",
    "\n",
    "            model = ABLATION_MODEL(_lambda=_lambda)\n",
    "            model.train(x_sample, y_sample)\n",
    "\n",
    "            y_pred_train = model.predict(x_sample)\n",
    "            train_score = f_score(y_pred_train, y_sample)\n",
    "            f1_train_scores[_lambda][n].append(train_score)\n",
    "\n",
    "            y_pred_val = model.predict(x_val_sample)\n",
    "            test_score = f_score(y_pred_val, y_val_sample)\n",
    "\n",
    "            f1_val_scores[_lambda][n].append(test_score)\n",
    "            print(train_score, test_score)\n",
    "\n",
    "print([np.mean(f1_train_scores[_lambda][n]) for _lambda in f1_train_scores for n in num_samples])\n",
    "print([np.mean(f1_val_scores[_lambda][n]) for _lambda in f1_val_scores for n in num_samples])"
   ]
  },
  {
   "cell_type": "code",
   "execution_count": null,
   "id": "ed166b8c",
   "metadata": {},
   "outputs": [
    {
     "ename": "KeyError",
     "evalue": "-1",
     "output_type": "error",
     "traceback": [
      "\u001b[31m---------------------------------------------------------------------------\u001b[39m",
      "\u001b[31mKeyError\u001b[39m                                  Traceback (most recent call last)",
      "\u001b[36mCell\u001b[39m\u001b[36m \u001b[39m\u001b[32mIn[23]\u001b[39m\u001b[32m, line 1\u001b[39m\n\u001b[32m----> \u001b[39m\u001b[32m1\u001b[39m \u001b[43mf1_train_scores\u001b[49m\u001b[43m[\u001b[49m\u001b[43m-\u001b[49m\u001b[32;43m1\u001b[39;49m\u001b[43m]\u001b[49m\n",
      "\u001b[31mKeyError\u001b[39m: -1"
     ]
    }
   ],
   "source": []
  },
  {
   "cell_type": "code",
   "execution_count": 33,
   "id": "9fd1c581",
   "metadata": {},
   "outputs": [
    {
     "data": {
      "image/png": "[encoded data removed]",
      "text/plain": [
       "<Figure size 700x200 with 1 Axes>"
      ]
     },
     "metadata": {},
     "output_type": "display_data"
    }
   ],
   "source": [
    "def mean_ci_normal(values):\n",
    "    \"\"\"Return mean and approximate CI half-width using normal distribution (z=1.96).\"\"\"\n",
    "    arr = np.array(values)\n",
    "    mean = np.mean(arr)\n",
    "    std = np.std(arr, ddof=1)\n",
    "    n = len(arr)\n",
    "    z = 1.96\n",
    "    h = z * std / np.sqrt(n)\n",
    "    return mean, h\n",
    "\n",
    "\n",
    "# Compute mean + CI per λ\n",
    "results = {}\n",
    "for _lambda in reversed(f1_train_scores.keys()):\n",
    "    train_means, train_cis = [], []\n",
    "    val_means, val_cis = [], []\n",
    "    \n",
    "    for n in num_samples:\n",
    "        m, h = mean_ci_normal(f1_train_scores[_lambda][n])\n",
    "        train_means.append(m)\n",
    "        train_cis.append(h)\n",
    "        m, h = mean_ci_normal(f1_val_scores[_lambda][n])\n",
    "        val_means.append(m)\n",
    "        val_cis.append(h)\n",
    "    \n",
    "    results[_lambda] = {\n",
    "        \"train_means\": np.array(train_means),\n",
    "        \"train_cis\": np.array(train_cis),\n",
    "        \"val_means\": np.array(val_means),\n",
    "        \"val_cis\": np.array(val_cis),\n",
    "    }\n",
    "\n",
    "\n",
    "# Plot\n",
    "plt.figure(figsize=(7, 2))\n",
    "\n",
    "for _lambda, res in results.items():  # reverse order for legend\n",
    "    label_suffix = f\" (reg.)\" if _lambda != 0 else \"\"\n",
    "    plt.plot(num_samples, res[\"train_means\"], '-o', label='Train' + label_suffix)\n",
    "    plt.plot(num_samples, res[\"val_means\"], '-o', label='Val.' + label_suffix)\n",
    "\n",
    "    plt.fill_between(num_samples,\n",
    "                     res[\"train_means\"] - res[\"train_cis\"],\n",
    "                     res[\"train_means\"] + res[\"train_cis\"], alpha=0.2)\n",
    "    plt.fill_between(num_samples,\n",
    "                     res[\"val_means\"] - res[\"val_cis\"],\n",
    "                     res[\"val_means\"] + res[\"val_cis\"], alpha=0.2)\n",
    "\n",
    "plt.xscale('log')\n",
    "plt.xticks(\n",
    "    num_samples,\n",
    "    [f\"$10^2$\", f\"$5\\\\cdot10^2$\", f\"$10^3$\", f\"$5\\\\cdot10^3$\", f\"$10^4$\", f\"$2\\\\cdot10^4$\", f\"$5\\\\cdot10^4$\", f\"$10^5$\", f\"$2\\\\cdot10^5$\"],\n",
    "    rotation=0,\n",
    "    \n",
    ")\n",
    "\n",
    "plt.xlabel(\"Sample size\")\n",
    "plt.ylabel(\"F1 score\")\n",
    "# place legend right of plot\n",
    "plt.legend(loc='upper left', bbox_to_anchor=(1, 1))\n",
    "plt.grid(True, which=\"both\", ls=\"--\", lw=0.5)\n",
    "plt.tight_layout()\n",
    "plt.savefig(\"../results/ablations_sample_size.pdf\")\n",
    "plt.show()\n"
   ]
  },
  {
   "cell_type": "code",
   "execution_count": 33,
   "id": "a66c2bd1",
   "metadata": {},
   "outputs": [
    {
     "name": "stdout",
     "output_type": "stream",
     "text": [
      "[np.float64(1.0), np.float64(1.0), np.float64(0.8232344060583172), np.float64(0.49458696994923734), np.float64(0.4454650099453853), np.float64(0.4093231997868726), np.float64(0.38970234768763323), np.float64(0.38419402511056633), np.float64(0.38040122469487364)]\n",
      "[np.float64(0.14735669477108274), np.float64(0.161575169121738), np.float64(0.2310033483701382), np.float64(0.33766188504431743), np.float64(0.35394544962734165), np.float64(0.3647492134927123), np.float64(0.37164993192003337), np.float64(0.3723999799480606), np.float64(0.37471610675895484)]\n"
     ]
    }
   ],
   "source": [
    "print([np.mean(f1_train_scores[n]) for n in num_samples])\n",
    "print([np.mean(f1_val_scores[n]) for n in num_samples])"
   ]
  },
  {
   "cell_type": "markdown",
   "id": "6fb1abcb",
   "metadata": {},
   "source": [
    "## L2 Regularization"
   ]
  },
  {
   "cell_type": "markdown",
   "id": "b15b1a40",
   "metadata": {},
   "source": [
    "kwarg_list([{\"}])"
   ]
  },
  {
   "cell_type": "markdown",
   "id": "8fbb9188",
   "metadata": {},
   "source": []
  },
  {
   "cell_type": "markdown",
   "id": "0e4874ad",
   "metadata": {},
   "source": [
    "## Decision Threshold Tuning"
   ]
  },
  {
   "cell_type": "code",
   "execution_count": null,
   "id": "af6a46c6",
   "metadata": {},
   "outputs": [
    {
     "name": "stdout",
     "output_type": "stream",
     "text": [
      "Running with args: {'tune_threshold': True}\n",
      "Starting fold 1/5 with 80000 samples\n",
      "Starting fold 2/5 with 80000 samples\n",
      "Starting fold 3/5 with 80000 samples\n",
      "Starting fold 4/5 with 80000 samples\n",
      "Starting fold 5/5 with 80000 samples\n",
      "Running with args: {'tune_threshold': False}\n",
      "Starting fold 1/5 with 80000 samples\n",
      "Starting fold 2/5 with 80000 samples\n",
      "Starting fold 3/5 with 80000 samples\n",
      "Starting fold 4/5 with 80000 samples\n",
      "Starting fold 5/5 with 80000 samples\n",
      "{'tune_threshold': True}\n",
      "0.4181783307545988\n",
      "{'tune_threshold': False}\n",
      "-0.04556669703519711\n"
     ]
    }
   ],
   "source": [
    "kwarg_list = [{\"tune_threshold\": True}, {\"tune_threshold\": False}]\n",
    "run_model_ablation(kwarg_list)"
   ]
  },
  {
   "cell_type": "markdown",
   "id": "1d4a2a94",
   "metadata": {},
   "source": [
    "# No weighting and no tuning"
   ]
  },
  {
   "cell_type": "code",
   "execution_count": 17,
   "id": "cc6fe0b3",
   "metadata": {},
   "outputs": [
    {
     "name": "stdout",
     "output_type": "stream",
     "text": [
      "Running with args: {'tune_threshold': True, 'weighting': True}\n",
      "Starting fold 1/5 with 32000 samples\n",
      "Starting fold 2/5 with 32000 samples\n",
      "Starting fold 3/5 with 32000 samples\n",
      "Starting fold 4/5 with 32000 samples\n",
      "Starting fold 5/5 with 32000 samples\n",
      "Running with args: {'tune_threshold': False, 'weighting': False}\n",
      "Starting fold 1/5 with 32000 samples\n",
      "Starting fold 2/5 with 32000 samples\n",
      "Starting fold 3/5 with 32000 samples\n",
      "Starting fold 4/5 with 32000 samples\n",
      "Starting fold 5/5 with 32000 samples\n",
      "{'tune_threshold': True, 'weighting': True}\n",
      "0.4056994158391004\n",
      "{'tune_threshold': False, 'weighting': False}\n",
      "-0.27907739332694803\n"
     ]
    }
   ],
   "source": [
    "kwarg_list = [{\"tune_threshold\": True, \"weighting\": True}, {\"tune_threshold\": False, \"weighting\": False}]\n",
    "run_model_ablation(kwarg_list, num_samples = int(4e4))"
   ]
  }
 ],
 "metadata": {
  "kernelspec": {
   "display_name": "base",
   "language": "python",
   "name": "python3"
  },
  "language_info": {
   "codemirror_mode": {
    "name": "ipython",
    "version": 3
   },
   "file_extension": ".py",
   "mimetype": "text/x-python",
   "name": "python",
   "nbconvert_exporter": "python",
   "pygments_lexer": "ipython3",
   "version": "3.11.13"
  }
 },
 "nbformat": 4,
 "nbformat_minor": 5
}
