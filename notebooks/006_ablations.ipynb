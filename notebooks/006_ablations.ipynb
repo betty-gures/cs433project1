{
 "cells": [
  {
   "cell_type": "markdown",
   "id": "ca8685e1",
   "metadata": {},
   "source": [
    "# 006: Running ablations"
   ]
  },
  {
   "cell_type": "code",
   "execution_count": 1,
   "id": "f26b1d13",
   "metadata": {},
   "outputs": [
    {
     "name": "stdout",
     "output_type": "stream",
     "text": [
      "Loading raw data...\n"
     ]
    }
   ],
   "source": [
    "import json\n",
    "from dataclasses import asdict\n",
    "import sys\n",
    "\n",
    "import numpy as np\n",
    "\n",
    "sys.path.append(\"../\")\n",
    "from preprocessing import preprocess\n",
    "from models import OrdinaryLeastSquares, LogisticRegression\n",
    "from model_selection import cross_validation\n",
    "\n",
    "%load_ext autoreload\n",
    "%autoreload 2"
   ]
  },
  {
   "cell_type": "code",
   "execution_count": 2,
   "id": "33df1df8",
   "metadata": {},
   "outputs": [],
   "source": [
    "def append_jsonl(obj, path):\n",
    "    \"\"\"Append a dataclass (or dict) as one JSON line to a file.\"\"\"\n",
    "    if not isinstance(obj, dict):\n",
    "        obj = asdict(obj)\n",
    "    with open(path, \"a\", encoding=\"utf-8\") as f:\n",
    "        json.dump(obj, f)\n",
    "        f.write(\"\\n\")"
   ]
  },
  {
   "cell_type": "markdown",
   "id": "6765883e",
   "metadata": {},
   "source": [
    "# Preprocessing ablations"
   ]
  },
  {
   "cell_type": "code",
   "execution_count": 3,
   "id": "4c2d0d1a",
   "metadata": {},
   "outputs": [
    {
     "name": "stdout",
     "output_type": "stream",
     "text": [
      "Replacing missing value codes with np.nan...\n",
      "Applying one-hot encoding...\n",
      "Imputing missing values...\n",
      "Removing invariant features...\n"
     ]
    }
   ],
   "source": [
    "x_train, _, y_train = preprocess()"
   ]
  },
  {
   "cell_type": "markdown",
   "id": "c8037e9f",
   "metadata": {},
   "source": [
    "# Model ablations"
   ]
  },
  {
   "cell_type": "code",
   "execution_count": 4,
   "id": "10b00e1e",
   "metadata": {},
   "outputs": [
    {
     "name": "stdout",
     "output_type": "stream",
     "text": [
      "Replacing missing value codes with np.nan...\n",
      "Applying one-hot encoding...\n",
      "Imputing missing values...\n",
      "Removing invariant features...\n"
     ]
    }
   ],
   "source": [
    "x_train, _, y_train = preprocess() # fixed data\n",
    "def run_model_ablation(kwarg_list, num_samples = int(1e5), num_folds = 5):\n",
    "    mean_f1 = []\n",
    "\n",
    "\n",
    "    for cv_kw in kwarg_list:\n",
    "        print(\"Running with args:\", cv_kw)\n",
    "        cv_results = cross_validation(x_train[:num_samples], y_train[:num_samples], num_folds=num_folds, verbose=False, model_class=LogisticRegression,**cv_kw)\n",
    "        mean_f1.append(np.mean(cv_results.f1_scores))\n",
    "\n",
    "    for i, (cv_kw, mean) in enumerate(zip(kwarg_list, mean_f1)):\n",
    "        print(cv_kw)\n",
    "        print(f\"{mean - mean_f1[0]}\" if i > 0 else mean)"
   ]
  },
  {
   "cell_type": "markdown",
   "id": "64005472",
   "metadata": {},
   "source": [
    "## Weighting"
   ]
  },
  {
   "cell_type": "code",
   "execution_count": null,
   "id": "fe07ba8c",
   "metadata": {},
   "outputs": [
    {
     "name": "stdout",
     "output_type": "stream",
     "text": [
      "Running with args: {'weighting': True}\n",
      "Starting fold 1/5 with 8000 samples\n",
      "Starting fold 2/5 with 8000 samples\n",
      "Starting fold 3/5 with 8000 samples\n",
      "Starting fold 4/5 with 8000 samples\n",
      "Starting fold 5/5 with 8000 samples\n",
      "Running with args: {'weighting': False}\n",
      "Starting fold 1/5 with 8000 samples\n",
      "Starting fold 2/5 with 8000 samples\n",
      "Starting fold 3/5 with 8000 samples\n",
      "Starting fold 4/5 with 8000 samples\n",
      "Starting fold 5/5 with 8000 samples\n",
      "{'weighting': True}\n",
      "0.36511378008378675\n",
      "{'weighting': False}\n",
      "0.005183613279058474\n"
     ]
    }
   ],
   "source": [
    "kwarg_list = [{\"\"weighting\": True}, {\"weighting\": False}]\n",
    "run_model_ablation(kwarg_list)"
   ]
  }
 ],
 "metadata": {
  "kernelspec": {
   "display_name": "project1-dev",
   "language": "python",
   "name": "python3"
  },
  "language_info": {
   "codemirror_mode": {
    "name": "ipython",
    "version": 3
   },
   "file_extension": ".py",
   "mimetype": "text/x-python",
   "name": "python",
   "nbconvert_exporter": "python",
   "pygments_lexer": "ipython3",
   "version": "3.10.18"
  }
 },
 "nbformat": 4,
 "nbformat_minor": 5
}
