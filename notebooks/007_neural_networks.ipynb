{
 "cells": [
  {
   "cell_type": "code",
   "execution_count": 57,
   "id": "14cea815",
   "metadata": {},
   "outputs": [
    {
     "name": "stdout",
     "output_type": "stream",
     "text": [
      "The autoreload extension is already loaded. To reload it, use:\n",
      "  %reload_ext autoreload\n"
     ]
    }
   ],
   "source": [
    "import sys\n",
    "\n",
    "import matplotlib.pyplot as plt\n",
    "import numpy as np\n",
    "\n",
    "sys.path.append(\"../\")\n",
    "from metrics import f_score, auc_roc\n",
    "from models import LinearSVM\n",
    "from visualizations import plot_roc, plot_losses\n",
    "\n",
    "%load_ext autoreload\n",
    "%autoreload 2"
   ]
  },
  {
   "cell_type": "code",
   "execution_count": 58,
   "id": "5212a220",
   "metadata": {},
   "outputs": [],
   "source": [
    "train = np.load(\"../data/dataset_prep/train.npz\")\n",
    "x_train = train[\"x_train\"]\n",
    "y_train = train[\"y_train\"]"
   ]
  },
  {
   "cell_type": "code",
   "execution_count": 59,
   "id": "2854c681",
   "metadata": {},
   "outputs": [
    {
     "data": {
      "text/plain": [
       "((328135, 622), (328135,))"
      ]
     },
     "execution_count": 59,
     "metadata": {},
     "output_type": "execute_result"
    }
   ],
   "source": [
    "x_train.shape, y_train.shape\n",
    "# shape is (N, D)"
   ]
  },
  {
   "cell_type": "code",
   "execution_count": 60,
   "id": "0dc9afaf",
   "metadata": {},
   "outputs": [],
   "source": [
    "from preprocessing import COL_REMOVE_MANUAL, impute_missing_values, remove_duplicate_columns\n",
    "\n",
    "# copied and altered `normalize_and_bias_data` from preprocessing.py to make it suitable for neural networks\n",
    "# alterations\n",
    "# > no need for bias since neuralnet already does it\n",
    "# > no need for squared features since neural net can learn non-linear relationships\n",
    "\n",
    "variable_type = []\n",
    "with open(\"../data/metadata/variable_type.txt\", \"r\") as f:\n",
    "    for line in f:\n",
    "        line = line.strip().strip('\"')  # remove whitespace and surrounding quotes\n",
    "        # split by comma and convert to int\n",
    "        if line == \"\":\n",
    "            variable_type.append([])\n",
    "        else:\n",
    "            variable_type.append(line)\n",
    "\n",
    "# def normalize_and_bias_data(x_train, x_test=None, squared_features=True, feature_names=None):\n",
    "def normalise_data(x_train, x_test=None, feature_names=None):\n",
    "\n",
    "    \"\"\"Standardize data and add bias term.\n",
    "    Args:\n",
    "        x_train: np.ndarray of shape (N_train, D)\n",
    "        x_test: np.ndarray of shape (N_test, D)\n",
    "    Returns:\n",
    "        x_train_std: np.ndarray of shape (N_train, D+1)\n",
    "        x_test_std: np.ndarray of shape (N_test, D+1)\n",
    "    \"\"\" \n",
    "    if feature_names is None: feature_names = np.arange(x_train.shape[1])\n",
    "    one_hot_encoding = x_train.shape[1] > len(variable_type) # one-hot encoding was applied\n",
    "\n",
    "    # missing data imputation\n",
    "    x_train = impute_missing_values(x_train, x_train)\n",
    "    if x_test is not None: x_test = impute_missing_values(x_train, x_test)\n",
    "    \n",
    "    # manual duplicates removal\n",
    "    x_train = np.delete(x_train, COL_REMOVE_MANUAL, axis=1)\n",
    "    remaining_var_types = np.delete(variable_type, COL_REMOVE_MANUAL)\n",
    "    feature_names = np.delete(feature_names, COL_REMOVE_MANUAL)\n",
    "    assert feature_names.shape[0] == x_train.shape[1], \"Feature names and data shape mismatch after manual duplicate removal.\"\n",
    "\n",
    "    # invariant feature removal\n",
    "    stds_train = np.std(x_train, axis=0)\n",
    "    remove = (stds_train < 1e-10)\n",
    "    x_train = x_train[:, ~remove]\n",
    "    remaining_var_types = np.delete(remaining_var_types, remove[:len(remaining_var_types)])\n",
    "    feature_names = np.delete(feature_names, remove)\n",
    "    assert feature_names.shape[0] == x_train.shape[1], \"Feature names and data shape mismatch after invariant feature removal.\"\n",
    "\n",
    "    # feature scaling by standardization\n",
    "    mean = x_train.mean(axis=0)\n",
    "    std = x_train.std(axis=0)\n",
    "    assert not np.any(std == 0), \"At least one feature has zero standard deviation.\"\n",
    "    x_train = (x_train - mean) / std\n",
    "    \n",
    "    # # squaring continuous features\n",
    "    # if squared_features:\n",
    "    #     squared_feature_idx = np.array([i for i, var_type in enumerate(remaining_var_types) if var_type in [\"ordinal\", \"continuous\"]])\n",
    "    #     x_train = np.column_stack([x_train, x_train[:, squared_feature_idx] ** 2])\n",
    "    #     squared_feature_names = [f\"{feature_names[i]}_squared\" for i in squared_feature_idx]\n",
    "    #     feature_names = np.concatenate([feature_names, squared_feature_names])\n",
    "    # assert feature_names.shape[0] == x_train.shape[1], \"Feature names and data shape mismatch after squaring features.\"\n",
    "    \n",
    "    if one_hot_encoding: \n",
    "        one_hot_encoded = [i for i, t in enumerate(remaining_var_types) if t == \"nominal\"]\n",
    "        x_train = np.delete(x_train, one_hot_encoded, axis=1)\n",
    "        feature_names = np.delete(feature_names, one_hot_encoded)\n",
    "        assert feature_names.shape[0] == x_train.shape[1], \"Feature names and data shape mismatch after removing one-hot encoded features.\"\n",
    "\n",
    "    # # add bias term\n",
    "    # x_train = np.c_[np.ones((x_train.shape[0], 1)), x_train]\n",
    "    # feature_names = np.concatenate([np.array([\"bias\"]), feature_names])\n",
    "\n",
    "    if x_test is None:\n",
    "        x_train, kept_idx = remove_duplicate_columns(x_train)\n",
    "        return x_train, feature_names[kept_idx]\n",
    "\n",
    "    x_test = np.delete(x_test, COL_REMOVE_MANUAL, axis=1)\n",
    "    x_test = x_test[:, ~remove]\n",
    "    x_test = (x_test - mean) / std\n",
    "    # if squared_features:\n",
    "    #     x_test = np.column_stack([x_test, x_test[:, squared_feature_idx] ** 2])\n",
    "    if one_hot_encoding: x_test = np.delete(x_test, one_hot_encoded, axis=1)\n",
    "    # x_test = np.c_[np.ones((x_test.shape[0], 1)), x_test]\n",
    "    x_train, x_test, kept_idx = remove_duplicate_columns(x_train, x_test)\n",
    "    return x_train, x_test, feature_names[kept_idx]"
   ]
  },
  {
   "cell_type": "code",
   "execution_count": 61,
   "id": "80d6596c",
   "metadata": {},
   "outputs": [],
   "source": [
    "x_train_norm, _ = normalise_data(x_train)\n",
    "N = x_train_norm.shape[0]\n",
    "D = x_train_norm.shape[1]"
   ]
  },
  {
   "cell_type": "code",
   "execution_count": 62,
   "id": "6bf47c7f",
   "metadata": {},
   "outputs": [
    {
     "data": {
      "text/plain": [
       "((554, 295321), (1, 295321), (554, 32814), (1, 32814))"
      ]
     },
     "execution_count": 62,
     "metadata": {},
     "output_type": "execute_result"
    }
   ],
   "source": [
    "train_test_ratio = 0.9\n",
    "split_index = int(N * train_test_ratio)\n",
    "\n",
    "permutation = np.random.permutation(N) # randomising data incase of skew\n",
    "\n",
    "x_train_reshape = x_train_norm.transpose()[:, permutation]\n",
    "y_train_reshape = y_train.reshape(1, -1)[:, permutation]\n",
    "\n",
    "x_train_final = x_train_reshape[:, :split_index]\n",
    "y_train_final = y_train_reshape[:, :split_index]\n",
    "\n",
    "x_test_local = x_train_reshape[:, split_index:N]\n",
    "y_test_local = y_train_reshape[:, split_index:N]\n",
    "\n",
    "x_train_final.shape, y_train_final.shape, x_test_local.shape, y_test_local.shape"
   ]
  },
  {
   "cell_type": "code",
   "execution_count": 63,
   "id": "c26a0290",
   "metadata": {},
   "outputs": [],
   "source": [
    "# eww why does python not have inline funcs\n",
    "def ReLU(Z):\n",
    "    return np.maximum(0, Z)"
   ]
  },
  {
   "cell_type": "code",
   "execution_count": 64,
   "id": "d8e36aa1",
   "metadata": {},
   "outputs": [],
   "source": [
    "# i don't import binary_cross_entropy_loss from models, since it is not suitable for neuralnet\n",
    "def binary_cross_entropy_loss(Y, A):\n",
    "    # Y: (1, N)\n",
    "    # A: (1, N)\n",
    "    m = Y.shape[1]\n",
    "    epsilon = 1e-9\n",
    "    cost = -(1/m) * np.sum( Y * np.log(A + epsilon) + (1 - Y) * np.log(1 - A + epsilon) )\n",
    "    return np.squeeze(cost)"
   ]
  },
  {
   "cell_type": "code",
   "execution_count": 65,
   "id": "c1b39237",
   "metadata": {},
   "outputs": [],
   "source": [
    "from implementations import sigmoid\n",
    "\n",
    "class NeuralNet:\n",
    "    \n",
    "    # Output size will be 1 given it is a binary classification\n",
    "    def __init__(self, layer_dims, learning_rate=0.01):\n",
    "\n",
    "        # In layer_dims, we have [input_size, hidden_sizes ..., output_size]\n",
    "        \n",
    "        self.layer_dims = layer_dims\n",
    "        self.L = len(layer_dims)\n",
    "        self.learning_rate = learning_rate\n",
    "\n",
    "        # Every hidden layer and the output layer has: weight matrix + bias vector\n",
    "        self.params = {}\n",
    "        for i in range(1, self.L): # start from 1, since 0 is input layer\n",
    "            # Each column in weights matrix represents weights for one neuron, and small randomisation is necessary to break symmetry\n",
    "            self.params[f\"W{i}\"] = np.random.randn(layer_dims[i], layer_dims[i-1]) * 0.01 # shape (curr, prev)\n",
    "            self.params[f\"b{i}\"] = np.zeros((layer_dims[i], 1)) # shape (curr, 1)\n",
    "        \n",
    "    # note, X assumes shape (D, N) to perform multiple at the same time, returns logits of shape (1, N)\n",
    "    def forward_propagation(self, X):\n",
    "        cache = [] # need to store the history of all activations for backprop\n",
    "\n",
    "        A = X # since the first layer is already normalised\n",
    "        Z = X # just tmp\n",
    "\n",
    "        for i in range(1, self.L):\n",
    "            A_prev = A\n",
    "            Z = np.dot(self.params[f\"W{i}\"], A_prev) + self.params[f\"b{i}\"]\n",
    "            cache.append((A_prev, self.params[f\"W{i}\"], Z))\n",
    "            if (i != self.L - 1): A = ReLU(Z)\n",
    "\n",
    "        return Z, cache\n",
    "    \n",
    "    def predict(self, X):\n",
    "        # X: (D, N)\n",
    "        # output: (1, N)\n",
    "\n",
    "        Z, _ = self.forward_propagation(X)\n",
    "        return (Z > 0).astype(int)\n",
    "\n",
    "    def train(self, X, Y, epochs=100, batch_size=32):\n",
    "        # X: (D, N)\n",
    "        # Y: (1, N)\n",
    "        N = X.shape[1]\n",
    "    \n",
    "        cost_sample_rate_in_epochs = 2\n",
    "        costs = []\n",
    "        test_costs = []\n",
    "\n",
    "        for i in range(epochs): \n",
    "            # need to do some shuffling to stop memorisation and overfitting\n",
    "            permutation = np.random.permutation(N)\n",
    "            X_shuffled = X[:, permutation]\n",
    "            Y_shuffled = Y[:, permutation]\n",
    "\n",
    "            for j in range(int(np.ceil(N/batch_size))):\n",
    "                start = j * batch_size\n",
    "                end = min((j + 1) * batch_size, N)\n",
    "\n",
    "                X_batch = X_shuffled[:, start:end]\n",
    "                Y_batch = Y_shuffled[:, start:end]\n",
    "                real_batch_size = end - start\n",
    "\n",
    "                # 1. for each batch perform forward propagation (we don't need to find the cross entropy loss since it works with derivatives)\n",
    "                Z, cache = self.forward_propagation(X_batch)\n",
    "                A = sigmoid(Z) \n",
    "                # C = binary_cross_entropy_loss(Y_batch, A)\n",
    "\n",
    "                dA_prev = None\n",
    "                for l in range(self.L - 1, 0, -1):\n",
    "                    # 2. backprop formulas condensed\n",
    "                    A_prev, W, Z = cache[l-1]\n",
    "\n",
    "                    is_last_layer = l == self.L - 1\n",
    "                    dZ = A - Y_batch if is_last_layer else dA_prev * (Z > 0).astype(int) # this last term is the derivate (kind of) of ReLU\n",
    "                    dW = (1 / real_batch_size) * np.dot(dZ, A_prev.T)\n",
    "                    db = (1 / real_batch_size) * np.sum(dZ, axis=1, keepdims=True)\n",
    "                    \n",
    "                    dA_prev = np.dot(W.T, dZ)\n",
    "\n",
    "                    # 3. Update weights and biases of the network\n",
    "                    self.params[f\"W{l}\"] = self.params[f\"W{l}\"] - self.learning_rate * dW\n",
    "                    self.params[f\"b{l}\"] = self.params[f\"b{l}\"] - self.learning_rate * db\n",
    "                \n",
    "            # Doing some printing and tracking off cost.\n",
    "            if i % cost_sample_rate_in_epochs == 0 or i == epochs - 1:\n",
    "                Z, _ = self.forward_propagation(X) \n",
    "                A = sigmoid(Z)\n",
    "                cost = binary_cross_entropy_loss(Y, A)\n",
    "                costs.append(cost)\n",
    "                print(f\"Epoch {i}, Cost: {cost}\")\n",
    "\n",
    "                Z, _ = self.forward_propagation(x_test_local)\n",
    "                A = sigmoid(Z)\n",
    "                test_cost = binary_cross_entropy_loss(y_test_local, A)\n",
    "                test_costs.append(test_cost)\n",
    "                print(f\".          Test Cost: {test_cost}\")\n",
    "\n",
    "        return costs, test_costs, cost_sample_rate_in_epochs\n"
   ]
  },
  {
   "cell_type": "code",
   "execution_count": null,
   "id": "7d71fda0",
   "metadata": {},
   "outputs": [
    {
     "name": "stdout",
     "output_type": "stream",
     "text": [
      "Epoch 0, Cost: 0.22654589760832838\n",
      ".          Test Cost: 0.22697501984963456\n",
      "Epoch 2, Cost: 0.21719613347273722\n",
      ".          Test Cost: 0.22320466950529133\n",
      "Epoch 4, Cost: 0.21370260352048973\n",
      ".          Test Cost: 0.22382645273753676\n",
      "Epoch 6, Cost: 0.21170177360820872\n",
      ".          Test Cost: 0.22413893722568473\n",
      "Epoch 8, Cost: 0.21014149000371052\n",
      ".          Test Cost: 0.22427903910251096\n",
      "Epoch 10, Cost: 0.20895560447471942\n",
      ".          Test Cost: 0.22526742970495886\n",
      "Epoch 12, Cost: 0.20801567514538818\n",
      ".          Test Cost: 0.22560516322371035\n",
      "Epoch 14, Cost: 0.20754221367318867\n",
      ".          Test Cost: 0.22684932065227228\n",
      "Epoch 16, Cost: 0.20673304788859592\n",
      ".          Test Cost: 0.2271832958788751\n",
      "Epoch 18, Cost: 0.20628748814269232\n",
      ".          Test Cost: 0.22754378992514204\n",
      "Epoch 20, Cost: 0.20584619785828526\n",
      ".          Test Cost: 0.22786172454565848\n",
      "Epoch 22, Cost: 0.20550942585952164\n",
      ".          Test Cost: 0.22882972648066913\n",
      "Epoch 24, Cost: 0.20486657385165993\n",
      ".          Test Cost: 0.2289436026830992\n",
      "Epoch 26, Cost: 0.20469305821739764\n",
      ".          Test Cost: 0.22907569075528042\n",
      "Epoch 28, Cost: 0.20452347488682615\n",
      ".          Test Cost: 0.2296485918032561\n",
      "Epoch 30, Cost: 0.20434879913691037\n",
      ".          Test Cost: 0.2295260555377941\n",
      "Epoch 32, Cost: 0.20380221307735313\n",
      ".          Test Cost: 0.23030844900858438\n",
      "Epoch 34, Cost: 0.2037920034434446\n",
      ".          Test Cost: 0.23054243144286107\n",
      "Epoch 36, Cost: 0.2034174140798837\n",
      ".          Test Cost: 0.23085224102572552\n",
      "Epoch 38, Cost: 0.20353828493358705\n",
      ".          Test Cost: 0.23126117750670058\n",
      "Epoch 40, Cost: 0.2032872326405768\n",
      ".          Test Cost: 0.23135792535455155\n",
      "Epoch 42, Cost: 0.203218528546123\n",
      ".          Test Cost: 0.23135913520524873\n",
      "Epoch 44, Cost: 0.20287769521428564\n",
      ".          Test Cost: 0.23207653784851562\n",
      "Epoch 46, Cost: 0.2028918200069826\n",
      ".          Test Cost: 0.2315237787771701\n",
      "Epoch 48, Cost: 0.20274386265395097\n",
      ".          Test Cost: 0.23196503271844543\n",
      "Epoch 49, Cost: 0.20286309501368388\n",
      ".          Test Cost: 0.2329449793596396\n"
     ]
    }
   ],
   "source": [
    "D = x_train_final.shape[0]\n",
    "\n",
    "nn = NeuralNet([D, 10, 1])\n",
    "costs, test_costs, cost_sample_rate_in_epochs = nn.train(x_train_final, y_train_final, epochs=50)"
   ]
  },
  {
   "cell_type": "code",
   "execution_count": 71,
   "id": "fa0cbad7",
   "metadata": {},
   "outputs": [
    {
     "data": {
      "image/png": "[encoded data removed]",
      "text/plain": [
       "<Figure size 640x480 with 1 Axes>"
      ]
     },
     "metadata": {},
     "output_type": "display_data"
    }
   ],
   "source": [
    "epochs = np.arange(1, len(costs) + 1) * cost_sample_rate_in_epochs\n",
    "plt.plot(epochs, costs, marker='o', linestyle='-', label='Train Cost')\n",
    "plt.plot(epochs, test_costs, marker='x', linestyle='--', label='Test Cost')\n",
    "\n",
    "plt.title('Training & Test Cost vs. Epochs')\n",
    "plt.xlabel(f'Epoch (Sampled every {cost_sample_rate_in_epochs})')\n",
    "plt.ylabel('Cost')\n",
    "plt.legend()\n",
    "plt.show()"
   ]
  },
  {
   "cell_type": "code",
   "execution_count": 68,
   "id": "b058ea8f",
   "metadata": {},
   "outputs": [
    {
     "name": "stdout",
     "output_type": "stream",
     "text": [
      "F1 Score: 0.23406478578892373\n"
     ]
    },
    {
     "data": {
      "text/plain": [
       "((1, 32814), (1, 32814))"
      ]
     },
     "execution_count": 68,
     "metadata": {},
     "output_type": "execute_result"
    }
   ],
   "source": [
    "y_pred = nn.predict(x_test_local)\n",
    "print(\"F1 Score:\", f_score(y_test_local, y_pred))\n",
    "y_pred.shape, y_test_local.shape"
   ]
  },
  {
   "cell_type": "code",
   "execution_count": 69,
   "id": "aa508baf",
   "metadata": {},
   "outputs": [],
   "source": [
    "def hyperparemeter_tuning_neural_net():\n",
    "    pass"
   ]
  }
 ],
 "metadata": {
  "kernelspec": {
   "display_name": "project1-dev",
   "language": "python",
   "name": "python3"
  },
  "language_info": {
   "codemirror_mode": {
    "name": "ipython",
    "version": 3
   },
   "file_extension": ".py",
   "mimetype": "text/x-python",
   "name": "python",
   "nbconvert_exporter": "python",
   "pygments_lexer": "ipython3",
   "version": "3.9.23"
  }
 },
 "nbformat": 4,
 "nbformat_minor": 5
}
