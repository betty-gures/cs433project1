{
 "cells": [
  {
   "cell_type": "markdown",
   "id": "c13b05c4",
   "metadata": {},
   "source": [
    "# 002: Describe and understand dataset"
   ]
  },
  {
   "cell_type": "code",
   "execution_count": 27,
   "id": "3a09fecc",
   "metadata": {},
   "outputs": [
    {
     "name": "stdout",
     "output_type": "stream",
     "text": [
      "The autoreload extension is already loaded. To reload it, use:\n",
      "  %reload_ext autoreload\n"
     ]
    }
   ],
   "source": [
    "import sys\n",
    "\n",
    "import numpy as np\n",
    "from matplotlib import pyplot as plt\n",
    "\n",
    "sys.path.append(\"../\")\n",
    "import helpers\n",
    "\n",
    "%load_ext autoreload\n",
    "%autoreload 2"
   ]
  },
  {
   "cell_type": "code",
   "execution_count": 8,
   "id": "5784443d",
   "metadata": {},
   "outputs": [],
   "source": [
    "x_train, x_test, y_train, train_ids, test_ids = helpers.load_csv_data(\"../data/dataset\", sub_sample=False)"
   ]
  },
  {
   "cell_type": "markdown",
   "id": "5ccef6c5",
   "metadata": {},
   "source": [
    "# Target description"
   ]
  },
  {
   "cell_type": "code",
   "execution_count": 23,
   "id": "8aabc8a8",
   "metadata": {},
   "outputs": [
    {
     "name": "stdout",
     "output_type": "stream",
     "text": [
      "y_train.shape: (328135,)\n",
      "The target contains these values: [-1  1]\n",
      "Label -1: 91.17%\n",
      "Label 1: 8.83%\n"
     ]
    }
   ],
   "source": [
    "print(f\"y_train.shape: {y_train.shape}\")\n",
    "print(f\"The target contains these values: {np.unique(y_train)}\")\n",
    "unique, counts = np.unique(y_train, return_counts=True)\n",
    "percentages = counts / counts.sum() * 100\n",
    "for label, pct in zip(unique, percentages):\n",
    "    print(f\"Label {label}: {pct:.2f}%\")\n"
   ]
  },
  {
   "cell_type": "markdown",
   "id": "dc5f558b",
   "metadata": {},
   "source": [
    "# Feature description"
   ]
  },
  {
   "cell_type": "code",
   "execution_count": 30,
   "id": "86366add",
   "metadata": {},
   "outputs": [
    {
     "name": "stdout",
     "output_type": "stream",
     "text": [
      "x_train.shape: (328135, 321)\n",
      "x_test.shape: (109379, 321)\n",
      "Features with missing values: 239 / 321\n"
     ]
    },
    {
     "data": {
      "image/png": "[encoded data removed]",
      "text/plain": [
       "<Figure size 600x200 with 1 Axes>"
      ]
     },
     "metadata": {},
     "output_type": "display_data"
    }
   ],
   "source": [
    "print(f\"x_train.shape: {x_train.shape}\")\n",
    "print(f\"x_test.shape: {x_test.shape}\")\n",
    "print(f\"Features with missing values: {(np.isnan(x_train).sum(axis=0) > 0).sum()} / {x_train.shape[1]}\")\n",
    "\n",
    "plt.figure(figsize=(6, 2))\n",
    "plt.hist(np.isnan(x_train).sum(axis=0), bins=50)\n",
    "plt.title(\"Histogram of missing values per feature\")\n",
    "plt.show()"
   ]
  }
 ],
 "metadata": {
  "kernelspec": {
   "display_name": "project1-dev",
   "language": "python",
   "name": "python3"
  },
  "language_info": {
   "codemirror_mode": {
    "name": "ipython",
    "version": 3
   },
   "file_extension": ".py",
   "mimetype": "text/x-python",
   "name": "python",
   "nbconvert_exporter": "python",
   "pygments_lexer": "ipython3",
   "version": "3.10.18"
  }
 },
 "nbformat": 4,
 "nbformat_minor": 5
}
