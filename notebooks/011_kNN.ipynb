{
 "cells": [
  {
   "cell_type": "markdown",
   "id": "75b43ca9",
   "metadata": {},
   "source": [
    "# 011: k nearest neighbors"
   ]
  },
  {
   "cell_type": "code",
   "execution_count": 2,
   "id": "29c71002",
   "metadata": {},
   "outputs": [],
   "source": [
    "import sys\n",
    "\n",
    "import matplotlib.pyplot as plt\n",
    "import numpy as np\n",
    "\n",
    "sys.path.append(\"../\")\n",
    "from metrics import f_score, auc_roc\n",
    "from models import KNearestNeighbors\n",
    "\n",
    "%load_ext autoreload\n",
    "%autoreload 2"
   ]
  },
  {
   "cell_type": "code",
   "execution_count": 3,
   "id": "a2b19a46",
   "metadata": {},
   "outputs": [],
   "source": [
    "train = np.load(\"../data/dataset_prep/train.npz\")\n",
    "x_train = train[\"x_train\"]\n",
    "y_train = train[\"y_train\"]"
   ]
  },
  {
   "cell_type": "code",
   "execution_count": 5,
   "id": "a98bff6a",
   "metadata": {},
   "outputs": [
    {
     "name": "stdout",
     "output_type": "stream",
     "text": [
      "(1000, 321)\n",
      "Evaluating variance=0.05\n",
      "Reduced to 2 features\n",
      "Predicting sample 0/1000\n"
     ]
    },
    {
     "ename": "ValueError",
     "evalue": "operands could not be broadcast together with shapes (19000,2) (316,) ",
     "output_type": "error",
     "traceback": [
      "\u001b[31m---------------------------------------------------------------------------\u001b[39m",
      "\u001b[31mValueError\u001b[39m                                Traceback (most recent call last)",
      "\u001b[36mCell\u001b[39m\u001b[36m \u001b[39m\u001b[32mIn[5]\u001b[39m\u001b[32m, line 3\u001b[39m\n\u001b[32m      1\u001b[39m knn = KNearestNeighbors(metric=f_score)\n\u001b[32m      2\u001b[39m num_samples = \u001b[32m20000\u001b[39m\n\u001b[32m----> \u001b[39m\u001b[32m3\u001b[39m \u001b[43mknn\u001b[49m\u001b[43m.\u001b[49m\u001b[43mhyperparameter_tuning\u001b[49m\u001b[43m(\u001b[49m\u001b[43mx_train\u001b[49m\u001b[43m[\u001b[49m\u001b[43m:\u001b[49m\u001b[43mnum_samples\u001b[49m\u001b[43m]\u001b[49m\u001b[43m,\u001b[49m\u001b[43m \u001b[49m\u001b[43my_train\u001b[49m\u001b[43m[\u001b[49m\u001b[43m:\u001b[49m\u001b[43mnum_samples\u001b[49m\u001b[43m]\u001b[49m\u001b[43m,\u001b[49m\u001b[43m \u001b[49m\u001b[43mverbose\u001b[49m\u001b[43m=\u001b[49m\u001b[38;5;28;43;01mTrue\u001b[39;49;00m\u001b[43m)\u001b[49m\n\u001b[32m      4\u001b[39m knn.train(x_train[:num_samples], y_train[:num_samples])\n\u001b[32m      5\u001b[39m predictions = knn.predict(x_train[num_samples:num_samples+\u001b[32m10\u001b[39m], scores=\u001b[38;5;28;01mTrue\u001b[39;00m)\n",
      "\u001b[36mFile \u001b[39m\u001b[32m/data/glandorf/cs433project1/notebooks/../models.py:413\u001b[39m, in \u001b[36mKNearestNeighbors.hyperparameter_tuning\u001b[39m\u001b[34m(self, X, y, metric, verbose)\u001b[39m\n\u001b[32m    411\u001b[39m \u001b[38;5;28;01mif\u001b[39;00m verbose: \u001b[38;5;28mprint\u001b[39m(\u001b[33mf\u001b[39m\u001b[33m\"\u001b[39m\u001b[33mReduced to \u001b[39m\u001b[38;5;132;01m{\u001b[39;00mX.shape[\u001b[32m1\u001b[39m]\u001b[38;5;132;01m}\u001b[39;00m\u001b[33m features\u001b[39m\u001b[33m\"\u001b[39m)\n\u001b[32m    412\u001b[39m \u001b[38;5;28mself\u001b[39m.X_train = X\n\u001b[32m--> \u001b[39m\u001b[32m413\u001b[39m all_scores = \u001b[38;5;28;43mself\u001b[39;49m\u001b[43m.\u001b[49m\u001b[43mpredict\u001b[49m\u001b[43m(\u001b[49m\u001b[43mX_val\u001b[49m\u001b[43m,\u001b[49m\u001b[43m \u001b[49m\u001b[43mreturn_max_k\u001b[49m\u001b[43m=\u001b[49m\u001b[38;5;28;43mmax\u001b[39;49m\u001b[43m(\u001b[49m\u001b[43mk_values\u001b[49m\u001b[43m)\u001b[49m\u001b[43m)\u001b[49m\n\u001b[32m    415\u001b[39m \u001b[38;5;28;01mfor\u001b[39;00m k \u001b[38;5;129;01min\u001b[39;00m k_values:\n\u001b[32m    416\u001b[39m     \u001b[38;5;28;01mif\u001b[39;00m verbose: \u001b[38;5;28mprint\u001b[39m(\u001b[33mf\u001b[39m\u001b[33m\"\u001b[39m\u001b[33mEvaluating k=\u001b[39m\u001b[38;5;132;01m{\u001b[39;00mk\u001b[38;5;132;01m}\u001b[39;00m\u001b[33m\"\u001b[39m)\n",
      "\u001b[36mFile \u001b[39m\u001b[32m/data/glandorf/cs433project1/notebooks/../models.py:462\u001b[39m, in \u001b[36mKNearestNeighbors.predict\u001b[39m\u001b[34m(self, X, scores, return_max_k)\u001b[39m\n\u001b[32m    460\u001b[39m \u001b[38;5;28;01mfor\u001b[39;00m i, x \u001b[38;5;129;01min\u001b[39;00m \u001b[38;5;28menumerate\u001b[39m(X):\n\u001b[32m    461\u001b[39m     \u001b[38;5;28;01mif\u001b[39;00m i % \u001b[32m1000\u001b[39m == \u001b[32m0\u001b[39m: \u001b[38;5;28mprint\u001b[39m(\u001b[33mf\u001b[39m\u001b[33m\"\u001b[39m\u001b[33mPredicting sample \u001b[39m\u001b[38;5;132;01m{\u001b[39;00mi\u001b[38;5;132;01m}\u001b[39;00m\u001b[33m/\u001b[39m\u001b[38;5;132;01m{\u001b[39;00mn\u001b[38;5;132;01m}\u001b[39;00m\u001b[33m\"\u001b[39m)\n\u001b[32m--> \u001b[39m\u001b[32m462\u001b[39m     distances = np.sqrt(np.sum((\u001b[38;5;28;43mself\u001b[39;49m\u001b[43m.\u001b[49m\u001b[43mX_train\u001b[49m\u001b[43m \u001b[49m\u001b[43m-\u001b[49m\u001b[43m \u001b[49m\u001b[43mx\u001b[49m) ** \u001b[32m2\u001b[39m, axis=\u001b[32m1\u001b[39m)) \u001b[38;5;66;03m# Compute Euclidean distances to all training points\u001b[39;00m\n\u001b[32m    463\u001b[39m     k_indices = np.argsort(distances)\n\u001b[32m    464\u001b[39m     sorted_labels = \u001b[38;5;28mself\u001b[39m.y_train[k_indices]\n",
      "\u001b[31mValueError\u001b[39m: operands could not be broadcast together with shapes (19000,2) (316,) "
     ]
    }
   ],
   "source": [
    "knn = KNearestNeighbors(metric=f_score)\n",
    "num_samples = 20000\n",
    "knn.hyperparameter_tuning(x_train[:num_samples], y_train[:num_samples], verbose=True)\n",
    "knn.train(x_train[:num_samples], y_train[:num_samples])\n",
    "predictions = knn.predict(x_train[num_samples:num_samples+10], scores=True)"
   ]
  },
  {
   "cell_type": "code",
   "execution_count": 12,
   "id": "8e01c0e9",
   "metadata": {},
   "outputs": [
    {
     "data": {
      "text/plain": [
       "189"
      ]
     },
     "execution_count": 12,
     "metadata": {},
     "output_type": "execute_result"
    }
   ],
   "source": [
    "knn.k"
   ]
  },
  {
   "cell_type": "code",
   "execution_count": 17,
   "id": "d2eaac28",
   "metadata": {},
   "outputs": [
    {
     "data": {
      "text/plain": [
       "0.8134081245860869"
      ]
     },
     "execution_count": 17,
     "metadata": {},
     "output_type": "execute_result"
    }
   ],
   "source": [
    "predictions = knn.predict(x_train[num_samples:num_samples+4000], scores=True)\n",
    "auc_roc(predictions, y_train[num_samples:num_samples+4000])"
   ]
  },
  {
   "cell_type": "code",
   "execution_count": 54,
   "id": "86baa84e",
   "metadata": {},
   "outputs": [
    {
     "data": {
      "text/plain": [
       "(array([1488.,  615.,  397.,  218.,  143.,   58.,   54.,   16.,    8.,\n",
       "           3.]),\n",
       " array([0.    , 0.0375, 0.075 , 0.1125, 0.15  , 0.1875, 0.225 , 0.2625,\n",
       "        0.3   , 0.3375, 0.375 ]),\n",
       " <BarContainer object of 10 artists>)"
      ]
     },
     "execution_count": 54,
     "metadata": {},
     "output_type": "execute_result"
    },
    {
     "data": {
      "image/png": "[encoded data removed]",
      "text/plain": [
       "<Figure size 640x480 with 1 Axes>"
      ]
     },
     "metadata": {},
     "output_type": "display_data"
    }
   ],
   "source": [
    "plt.hist(predictions)"
   ]
  },
  {
   "cell_type": "markdown",
   "id": "b4deffa9",
   "metadata": {},
   "source": [
    "\n",
    "# With PCA"
   ]
  },
  {
   "cell_type": "code",
   "execution_count": 6,
   "id": "7915b56c",
   "metadata": {},
   "outputs": [
    {
     "name": "stdout",
     "output_type": "stream",
     "text": [
      "(1000, 321)\n",
      "Evaluating variance=0.05\n",
      "Reduced to 2 features\n",
      "Predicting sample 0/1000\n",
      "Evaluating k=35\n",
      "Best threshold: 0.145 with score 0.36\n",
      "Evaluating k=69\n",
      "Best threshold: 0.16 with score 0.3357142857142857\n",
      "Evaluating k=137\n",
      "Best threshold: 0.135 with score 0.35428571428571426\n",
      "Evaluating k=173\n",
      "Best threshold: 0.145 with score 0.3448275862068966\n",
      "Evaluating k=207\n",
      "Best threshold: 0.14 with score 0.3539823008849558\n",
      "Evaluating k=275\n",
      "Best threshold: 0.145 with score 0.3486238532110092\n",
      "Evaluating k=551\n",
      "Best threshold: 0.135 with score 0.35820895522388063\n",
      "Evaluating k=1103\n",
      "Best threshold: 0.13 with score 0.3610315186246419\n",
      "Evaluating k=2205\n",
      "Best threshold: 0.15 with score 0.35125448028673834\n",
      "Evaluating k=4411\n",
      "Best threshold: 0.12 with score 0.3597560975609756\n",
      "Evaluating k=8821\n",
      "Best threshold: 0.1 with score 0.35327635327635326\n",
      "Evaluating variance=0.1\n",
      "Reduced to 4 features\n",
      "Predicting sample 0/1000\n",
      "Evaluating k=35\n",
      "Best threshold: 0.145 with score 0.36721311475409835\n",
      "Evaluating k=69\n",
      "Best threshold: 0.16 with score 0.3563636363636364\n",
      "Evaluating k=137\n",
      "Best threshold: 0.18 with score 0.36213991769547327\n",
      "Evaluating k=173\n",
      "Best threshold: 0.16 with score 0.37857142857142856\n",
      "Evaluating k=207\n",
      "Best threshold: 0.195 with score 0.3773584905660377\n",
      "Evaluating k=275\n",
      "Best threshold: 0.17500000000000002 with score 0.374468085106383\n",
      "Evaluating k=551\n",
      "Best threshold: 0.185 with score 0.36697247706422015\n",
      "Evaluating k=1103\n",
      "Best threshold: 0.17500000000000002 with score 0.36607142857142855\n",
      "Evaluating k=2205\n",
      "Best threshold: 0.15 with score 0.3764705882352941\n",
      "Evaluating k=4411\n",
      "Best threshold: 0.135 with score 0.36641221374045796\n",
      "Evaluating k=8821\n",
      "Best threshold: 0.115 with score 0.36641221374045796\n",
      "Evaluating variance=0.16666666666666666\n",
      "Reduced to 8 features\n",
      "Predicting sample 0/1000\n",
      "Evaluating k=35\n",
      "Best threshold: 0.145 with score 0.3944636678200692\n",
      "Evaluating k=69\n",
      "Best threshold: 0.20500000000000002 with score 0.3904761904761905\n",
      "Evaluating k=137\n",
      "Best threshold: 0.165 with score 0.37362637362637363\n",
      "Evaluating k=173\n",
      "Best threshold: 0.165 with score 0.37638376383763844\n",
      "Evaluating k=207\n",
      "Best threshold: 0.15 with score 0.37455830388692574\n",
      "Evaluating k=275\n",
      "Best threshold: 0.14 with score 0.39999999999999997\n",
      "Evaluating k=551\n",
      "Best threshold: 0.14 with score 0.3819444444444445\n",
      "Evaluating k=1103\n",
      "Best threshold: 0.15 with score 0.3779527559055118\n",
      "Evaluating k=2205\n",
      "Best threshold: 0.135 with score 0.37638376383763844\n",
      "Evaluating k=4411\n",
      "Best threshold: 0.125 with score 0.372093023255814\n",
      "Evaluating k=8821\n",
      "Best threshold: 0.105 with score 0.3866171003717472\n",
      "Evaluating variance=0.25\n",
      "Reduced to 15 features\n",
      "Predicting sample 0/1000\n",
      "Evaluating k=35\n",
      "Best threshold: 0.17500000000000002 with score 0.3876651982378855\n",
      "Evaluating k=69\n",
      "Best threshold: 0.16 with score 0.4129554655870446\n",
      "Evaluating k=137\n",
      "Best threshold: 0.17 with score 0.41269841269841273\n",
      "Evaluating k=173\n",
      "Best threshold: 0.145 with score 0.41843971631205673\n",
      "Evaluating k=207\n",
      "Best threshold: 0.145 with score 0.4187725631768953\n",
      "Evaluating k=275\n",
      "Best threshold: 0.155 with score 0.4274809160305344\n",
      "Evaluating k=551\n",
      "Best threshold: 0.13 with score 0.40540540540540543\n",
      "Evaluating k=1103\n",
      "Best threshold: 0.125 with score 0.39024390243902435\n",
      "Evaluating k=2205\n",
      "Best threshold: 0.125 with score 0.38235294117647056\n",
      "Evaluating k=4411\n",
      "Best threshold: 0.115 with score 0.379182156133829\n",
      "Evaluating k=8821\n",
      "Best threshold: 0.1 with score 0.3911439114391144\n",
      "Hyperparams found: 275, 0.25 with metric score: 0.4274809160305344 at threshold 0.155\n",
      "Predicting sample 0/5000\n",
      "Predicting sample 1000/5000\n",
      "Predicting sample 2000/5000\n",
      "Predicting sample 3000/5000\n",
      "Predicting sample 4000/5000\n",
      "F1 Score: 0.36774679728711385\n",
      "0.25 275 0.155\n"
     ]
    }
   ],
   "source": [
    "knn = KNearestNeighbors(metric=f_score, use_pca=True)\n",
    "num_samples = 20000\n",
    "knn.hyperparameter_tuning(x_train[:num_samples], y_train[:num_samples], verbose=True)\n",
    "\n",
    "knn.train(x_train[:num_samples], y_train[:num_samples])\n",
    "predictions = knn.predict(x_train[num_samples:num_samples+5000])\n",
    "print(f\"F1 Score: {f_score(predictions, y_train[num_samples:num_samples+5000])}\")\n",
    "print(knn.variance, knn.k, knn.decision_threshold)"
   ]
  }
 ],
 "metadata": {
  "kernelspec": {
   "display_name": "base",
   "language": "python",
   "name": "python3"
  },
  "language_info": {
   "codemirror_mode": {
    "name": "ipython",
    "version": 3
   },
   "file_extension": ".py",
   "mimetype": "text/x-python",
   "name": "python",
   "nbconvert_exporter": "python",
   "pygments_lexer": "ipython3",
   "version": "3.11.13"
  }
 },
 "nbformat": 4,
 "nbformat_minor": 5
}
