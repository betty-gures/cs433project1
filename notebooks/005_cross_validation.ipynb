{
 "cells": [
  {
   "cell_type": "markdown",
   "id": "d8ff706e",
   "metadata": {},
   "source": [
    "# 005: Implement CV"
   ]
  },
  {
   "cell_type": "code",
   "execution_count": 23,
   "id": "8110fad0",
   "metadata": {},
   "outputs": [
    {
     "name": "stdout",
     "output_type": "stream",
     "text": [
      "The autoreload extension is already loaded. To reload it, use:\n",
      "  %reload_ext autoreload\n"
     ]
    }
   ],
   "source": [
    "import json\n",
    "from dataclasses import asdict\n",
    "import sys\n",
    "\n",
    "import numpy as np\n",
    "\n",
    "sys.path.append(\"../\")\n",
    "from models import LogisticRegression\n",
    "from visualizations import plot_losses\n",
    "from model_selection import cross_validation\n",
    "\n",
    "%load_ext autoreload\n",
    "%autoreload 2"
   ]
  },
  {
   "cell_type": "code",
   "execution_count": 38,
   "id": "4b58a9e9",
   "metadata": {},
   "outputs": [],
   "source": [
    "train = np.load(\"../data/dataset_prep/train.npz\")\n",
    "x_train, y_train = train[\"x_train\"], train[\"y_train\"]"
   ]
  },
  {
   "cell_type": "code",
   "execution_count": 39,
   "id": "06903609",
   "metadata": {},
   "outputs": [
    {
     "name": "stdout",
     "output_type": "stream",
     "text": [
      "Starting fold 1/5 with 80000 samples\n",
      "Starting fold 2/5 with 80000 samples\n",
      "Starting fold 3/5 with 80000 samples\n",
      "Starting fold 4/5 with 80000 samples\n",
      "Starting fold 5/5 with 80000 samples\n"
     ]
    }
   ],
   "source": [
    "num_samples = int(1e5)\n",
    "cv_results = cross_validation(LogisticRegression, x_train[:num_samples], y_train[:num_samples], num_folds=5, verbose=False, weighting=True)"
   ]
  },
  {
   "cell_type": "code",
   "execution_count": 36,
   "id": "b6ddc572",
   "metadata": {},
   "outputs": [
    {
     "data": {
      "image/png": "[encoded data removed]",
      "text/plain": [
       "<Figure size 640x480 with 1 Axes>"
      ]
     },
     "metadata": {},
     "output_type": "display_data"
    }
   ],
   "source": [
    "plot_losses(cv_results.train_result[0].train_losses, cv_results.train_result[0].val_losses)"
   ]
  },
  {
   "cell_type": "code",
   "execution_count": 37,
   "id": "dd0f97d0",
   "metadata": {},
   "outputs": [
    {
     "name": "stdout",
     "output_type": "stream",
     "text": [
      "Average train F1-score: 0.416 ± 0.003\n",
      "Average train F2-score: 0.464 ± 0.003\n",
      "Average train AUC-ROC: 0.854 ± 0.002\n"
     ]
    }
   ],
   "source": [
    "print(f\"Average train F1-score: {np.mean(cv_results.f1_scores):.3f} ± {np.std(cv_results.f1_scores):.3f}\")\n",
    "print(f\"Average train F2-score: {np.mean(cv_results.f2_scores):.3f} ± {np.std(cv_results.f2_scores):.3f}\")\n",
    "print(f\"Average train AUC-ROC: {np.mean(cv_results.auc_rocs):.3f} ± {np.std(cv_results.auc_rocs):.3f}\")"
   ]
  },
  {
   "cell_type": "code",
   "execution_count": 21,
   "id": "4f0740e3",
   "metadata": {},
   "outputs": [
    {
     "name": "stdout",
     "output_type": "stream",
     "text": [
      "Average train F1-score: 0.417 ± 0.004\n",
      "Average train F2-score: 0.485 ± 0.017\n",
      "Average train AUC-ROC: 0.856 ± 0.003\n"
     ]
    }
   ],
   "source": [
    "print(f\"Average train F1-score: {np.mean(cv_results.f1_scores):.3f} ± {np.std(cv_results.f1_scores):.3f}\")\n",
    "print(f\"Average train F2-score: {np.mean(cv_results.f2_scores):.3f} ± {np.std(cv_results.f2_scores):.3f}\")\n",
    "print(f\"Average train AUC-ROC: {np.mean(cv_results.auc_rocs):.3f} ± {np.std(cv_results.auc_rocs):.3f}\")"
   ]
  },
  {
   "cell_type": "code",
   "execution_count": 15,
   "id": "ff6e4483",
   "metadata": {},
   "outputs": [],
   "source": [
    "def append_jsonl(obj, path):\n",
    "    \"\"\"Append a dataclass (or dict) as one JSON line to a file.\"\"\"\n",
    "    if not isinstance(obj, dict):\n",
    "        obj = asdict(obj)\n",
    "    with open(path, \"a\", encoding=\"utf-8\") as f:\n",
    "        json.dump(obj, f)\n",
    "        f.write(\"\\n\")"
   ]
  },
  {
   "cell_type": "code",
   "execution_count": 22,
   "id": "0510f990",
   "metadata": {},
   "outputs": [],
   "source": [
    "append_jsonl(cv_results, \"../results/cv_results.jsonl\")"
   ]
  }
 ],
 "metadata": {
  "kernelspec": {
   "display_name": "project1-dev",
   "language": "python",
   "name": "python3"
  },
  "language_info": {
   "codemirror_mode": {
    "name": "ipython",
    "version": 3
   },
   "file_extension": ".py",
   "mimetype": "text/x-python",
   "name": "python",
   "nbconvert_exporter": "python",
   "pygments_lexer": "ipython3",
   "version": "3.10.18"
  }
 },
 "nbformat": 4,
 "nbformat_minor": 5
}
