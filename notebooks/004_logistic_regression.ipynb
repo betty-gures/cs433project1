{
 "cells": [
  {
   "cell_type": "markdown",
   "id": "ff86d11c",
   "metadata": {},
   "source": [
    "# 004: Implement logistic regression"
   ]
  },
  {
   "cell_type": "markdown",
   "id": "ba63c999",
   "metadata": {},
   "source": [
    "needs data loading, train/test split, training, evaluation"
   ]
  },
  {
   "cell_type": "code",
   "execution_count": 43,
   "id": "57c6b868",
   "metadata": {},
   "outputs": [
    {
     "name": "stdout",
     "output_type": "stream",
     "text": [
      "The autoreload extension is already loaded. To reload it, use:\n",
      "  %reload_ext autoreload\n"
     ]
    }
   ],
   "source": [
    "import sys\n",
    "\n",
    "import matplotlib.pyplot as plt \n",
    "import numpy as np\n",
    "\n",
    "sys.path.append(\"../\")\n",
    "import helpers\n",
    "from implementations import sigmoid\n",
    "from metrics import f_score\n",
    "from models import LogisticRegression\n",
    "from visualizations import plot_roc\n",
    "\n",
    "%load_ext autoreload\n",
    "%autoreload 2"
   ]
  },
  {
   "cell_type": "code",
   "execution_count": 44,
   "id": "26edd353",
   "metadata": {},
   "outputs": [],
   "source": [
    "train = np.load(\"../data/dataset_prep/train.npz\")\n",
    "x_train = train[\"x_train\"]\n",
    "y_train = train[\"y_train\"]"
   ]
  },
  {
   "cell_type": "code",
   "execution_count": 54,
   "id": "d952680c",
   "metadata": {},
   "outputs": [
    {
     "name": "stdout",
     "output_type": "stream",
     "text": [
      "Evaluating lambda=0.0\n",
      "Early stopping at iteration 779\n",
      "train loss=0.4621273970039566\n",
      "val loss=0.4798042558692513\n",
      "Best threshold: 0.725 with score 0.4\n",
      "Evaluating lambda=0.0001\n",
      "Early stopping at iteration 860\n",
      "train loss=0.462453953420345\n",
      "val loss=0.4800728309937602\n",
      "Best threshold: 0.725 with score 0.40036314117113025\n",
      "Evaluating lambda=0.001\n",
      "train loss=0.465533663679371\n",
      "val loss=0.4826774521867814\n",
      "Best threshold: 0.705 with score 0.40085653104925056\n",
      "Evaluating lambda=0.01\n",
      "Early stopping at iteration 384\n",
      "train loss=0.49177815450936097\n",
      "val loss=0.5065916963330632\n",
      "Best threshold: 0.7000000000000001 with score 0.39813638288860653\n",
      "Evaluating lambda=0.1\n",
      "Early stopping at iteration 77\n",
      "train loss=0.5897586657800126\n",
      "val loss=0.5984616749545355\n",
      "Best threshold: 0.72 with score 0.39717563989408644\n",
      "Evaluating lambda=1.0\n",
      "Early stopping at iteration 10\n",
      "train loss=0.6931471805599453\n",
      "val loss=0.6931471805599453\n",
      "Best threshold: 0.0 with score 0.15327793167128348\n"
     ]
    }
   ],
   "source": [
    "model = LogisticRegression()\n",
    "max_samples = 50000\n",
    "model.hyperparameter_tuning(x_train[:max_samples], y_train[:max_samples], f_score, verbose=True)\n",
    "model.train(X=x_train[:max_samples], y=y_train[:max_samples])"
   ]
  },
  {
   "cell_type": "code",
   "execution_count": 40,
   "id": "bfa83972",
   "metadata": {},
   "outputs": [
    {
     "data": {
      "text/plain": [
       "0.001"
      ]
     },
     "execution_count": 40,
     "metadata": {},
     "output_type": "execute_result"
    }
   ],
   "source": [
    "model._lambda"
   ]
  },
  {
   "cell_type": "code",
   "execution_count": 41,
   "id": "fa6331b1",
   "metadata": {},
   "outputs": [
    {
     "data": {
      "image/png": "[encoded data removed]",
      "text/plain": [
       "<Figure size 640x480 with 1 Axes>"
      ]
     },
     "metadata": {},
     "output_type": "display_data"
    }
   ],
   "source": [
    "plt.hist(model.predict(x_train[:max_samples], scores=True), bins=50)\n",
    "plt.show()"
   ]
  },
  {
   "cell_type": "code",
   "execution_count": 42,
   "id": "e1998e5c",
   "metadata": {},
   "outputs": [
    {
     "name": "stdout",
     "output_type": "stream",
     "text": [
      "Threshold: 0.00, F1 Score: 0.1641\n",
      "Threshold: 0.01, F1 Score: 0.1656\n",
      "Threshold: 0.02, F1 Score: 0.1703\n",
      "Threshold: 0.03, F1 Score: 0.1765\n",
      "Threshold: 0.04, F1 Score: 0.1837\n",
      "Threshold: 0.05, F1 Score: 0.1906\n",
      "Threshold: 0.06, F1 Score: 0.1973\n",
      "Threshold: 0.07, F1 Score: 0.2037\n",
      "Threshold: 0.08, F1 Score: 0.2094\n",
      "Threshold: 0.09, F1 Score: 0.2148\n",
      "Threshold: 0.10, F1 Score: 0.2204\n",
      "Threshold: 0.11, F1 Score: 0.2257\n",
      "Threshold: 0.12, F1 Score: 0.2307\n",
      "Threshold: 0.13, F1 Score: 0.2352\n",
      "Threshold: 0.14, F1 Score: 0.2402\n",
      "Threshold: 0.15, F1 Score: 0.2444\n",
      "Threshold: 0.16, F1 Score: 0.2489\n",
      "Threshold: 0.17, F1 Score: 0.2533\n",
      "Threshold: 0.18, F1 Score: 0.2573\n",
      "Threshold: 0.19, F1 Score: 0.2615\n",
      "Threshold: 0.20, F1 Score: 0.2660\n",
      "Threshold: 0.21, F1 Score: 0.2700\n",
      "Threshold: 0.22, F1 Score: 0.2746\n",
      "Threshold: 0.23, F1 Score: 0.2789\n",
      "Threshold: 0.24, F1 Score: 0.2837\n",
      "Threshold: 0.25, F1 Score: 0.2874\n",
      "Threshold: 0.26, F1 Score: 0.2913\n",
      "Threshold: 0.27, F1 Score: 0.2955\n",
      "Threshold: 0.28, F1 Score: 0.2995\n",
      "Threshold: 0.29, F1 Score: 0.3029\n",
      "Threshold: 0.30, F1 Score: 0.3068\n",
      "Threshold: 0.31, F1 Score: 0.3112\n",
      "Threshold: 0.32, F1 Score: 0.3152\n",
      "Threshold: 0.33, F1 Score: 0.3181\n",
      "Threshold: 0.34, F1 Score: 0.3218\n",
      "Threshold: 0.35, F1 Score: 0.3249\n",
      "Threshold: 0.36, F1 Score: 0.3287\n",
      "Threshold: 0.37, F1 Score: 0.3323\n",
      "Threshold: 0.38, F1 Score: 0.3353\n",
      "Threshold: 0.39, F1 Score: 0.3387\n",
      "Threshold: 0.40, F1 Score: 0.3419\n",
      "Threshold: 0.41, F1 Score: 0.3449\n",
      "Threshold: 0.42, F1 Score: 0.3487\n",
      "Threshold: 0.43, F1 Score: 0.3525\n",
      "Threshold: 0.44, F1 Score: 0.3556\n",
      "Threshold: 0.45, F1 Score: 0.3598\n",
      "Threshold: 0.46, F1 Score: 0.3631\n",
      "Threshold: 0.47, F1 Score: 0.3672\n",
      "Threshold: 0.48, F1 Score: 0.3715\n",
      "Threshold: 0.49, F1 Score: 0.3745\n",
      "Threshold: 0.50, F1 Score: 0.3787\n",
      "Threshold: 0.51, F1 Score: 0.3810\n",
      "Threshold: 0.52, F1 Score: 0.3830\n",
      "Threshold: 0.53, F1 Score: 0.3853\n",
      "Threshold: 0.54, F1 Score: 0.3878\n",
      "Threshold: 0.55, F1 Score: 0.3899\n",
      "Threshold: 0.56, F1 Score: 0.3936\n",
      "Threshold: 0.57, F1 Score: 0.3962\n",
      "Threshold: 0.58, F1 Score: 0.3988\n",
      "Threshold: 0.59, F1 Score: 0.4000\n",
      "Threshold: 0.60, F1 Score: 0.4018\n",
      "Threshold: 0.61, F1 Score: 0.4034\n",
      "Threshold: 0.62, F1 Score: 0.4047\n",
      "Threshold: 0.63, F1 Score: 0.4067\n",
      "Threshold: 0.64, F1 Score: 0.4081\n",
      "Threshold: 0.65, F1 Score: 0.4102\n",
      "Threshold: 0.66, F1 Score: 0.4122\n",
      "Threshold: 0.67, F1 Score: 0.4151\n",
      "Threshold: 0.68, F1 Score: 0.4159\n",
      "Threshold: 0.69, F1 Score: 0.4141\n",
      "Threshold: 0.70, F1 Score: 0.4138\n",
      "Threshold: 0.71, F1 Score: 0.4140\n",
      "Threshold: 0.72, F1 Score: 0.4129\n",
      "Threshold: 0.73, F1 Score: 0.4137\n",
      "Threshold: 0.74, F1 Score: 0.4137\n",
      "Threshold: 0.75, F1 Score: 0.4120\n",
      "Threshold: 0.76, F1 Score: 0.4124\n",
      "Threshold: 0.77, F1 Score: 0.4116\n",
      "Threshold: 0.78, F1 Score: 0.4100\n",
      "Threshold: 0.79, F1 Score: 0.4051\n",
      "Threshold: 0.80, F1 Score: 0.4036\n",
      "Threshold: 0.81, F1 Score: 0.3981\n",
      "Threshold: 0.82, F1 Score: 0.3906\n",
      "Threshold: 0.83, F1 Score: 0.3861\n",
      "Threshold: 0.84, F1 Score: 0.3795\n",
      "Threshold: 0.85, F1 Score: 0.3691\n",
      "Threshold: 0.86, F1 Score: 0.3592\n",
      "Threshold: 0.87, F1 Score: 0.3501\n",
      "Threshold: 0.88, F1 Score: 0.3340\n",
      "Threshold: 0.89, F1 Score: 0.3134\n",
      "Threshold: 0.90, F1 Score: 0.2957\n",
      "Threshold: 0.91, F1 Score: 0.2677\n",
      "Threshold: 0.92, F1 Score: 0.2417\n",
      "Threshold: 0.93, F1 Score: 0.2172\n",
      "Threshold: 0.94, F1 Score: 0.1899\n",
      "Threshold: 0.95, F1 Score: 0.1544\n",
      "Threshold: 0.96, F1 Score: 0.1137\n",
      "Threshold: 0.97, F1 Score: 0.0765\n",
      "Threshold: 0.98, F1 Score: 0.0361\n",
      "Threshold: 0.99, F1 Score: 0.0080\n",
      "Threshold: 1.00, F1 Score: 0.0000\n"
     ]
    },
    {
     "data": {
      "image/png": "[encoded data removed]",
      "text/plain": [
       "<Figure size 640x480 with 1 Axes>"
      ]
     },
     "metadata": {},
     "output_type": "display_data"
    }
   ],
   "source": [
    "y_score = model.predict(x_train[max_samples:max_samples * 2], scores=True)\n",
    "y_true = y_train[max_samples:max_samples * 2].astype(int)\n",
    "plot_roc(y_score, y_true)"
   ]
  },
  {
   "cell_type": "markdown",
   "id": "f055dbf6",
   "metadata": {},
   "source": [
    "# make predictions on test set"
   ]
  },
  {
   "cell_type": "code",
   "execution_count": null,
   "id": "814b9951",
   "metadata": {},
   "outputs": [],
   "source": [
    "test = np.load(\"../data/dataset_prep/test.npz\")\n",
    "x_test = test[\"x_test\"]\n",
    "test_ids = test[\"test_ids\"]\n"
   ]
  },
  {
   "cell_type": "code",
   "execution_count": 133,
   "id": "dd7e635f",
   "metadata": {},
   "outputs": [
    {
     "data": {
      "text/plain": [
       "(109379, 316)"
      ]
     },
     "execution_count": 133,
     "metadata": {},
     "output_type": "execute_result"
    }
   ],
   "source": [
    "x_test.shape"
   ]
  }
 ],
 "metadata": {
  "kernelspec": {
   "display_name": "project1-dev",
   "language": "python",
   "name": "python3"
  },
  "language_info": {
   "codemirror_mode": {
    "name": "ipython",
    "version": 3
   },
   "file_extension": ".py",
   "mimetype": "text/x-python",
   "name": "python",
   "nbconvert_exporter": "python",
   "pygments_lexer": "ipython3",
   "version": "3.10.18"
  }
 },
 "nbformat": 4,
 "nbformat_minor": 5
}
