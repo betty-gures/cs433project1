{
 "cells": [
  {
   "cell_type": "markdown",
   "id": "0887c483",
   "metadata": {},
   "source": [
    "# 003: Preprocessing the data"
   ]
  },
  {
   "cell_type": "code",
   "execution_count": 2,
   "id": "9f23c4d6",
   "metadata": {},
   "outputs": [],
   "source": [
    "import sys\n",
    "\n",
    "import numpy as np\n",
    "\n",
    "sys.path.append(\"../\")\n",
    "import helpers\n",
    "from preprocessing import preprocess\n",
    "\n",
    "%load_ext autoreload\n",
    "%autoreload 2"
   ]
  },
  {
   "cell_type": "markdown",
   "id": "c30d0829",
   "metadata": {},
   "source": [
    "Code has been integrated into library function"
   ]
  },
  {
   "cell_type": "code",
   "execution_count": null,
   "id": "4e5c4224",
   "metadata": {},
   "outputs": [],
   "source": [
    "preprocess(save_dir=\"../data/dataset_prep/\")"
   ]
  }
 ],
 "metadata": {
  "kernelspec": {
   "display_name": "base",
   "language": "python",
   "name": "python3"
  },
  "language_info": {
   "codemirror_mode": {
    "name": "ipython",
    "version": 3
   },
   "file_extension": ".py",
   "mimetype": "text/x-python",
   "name": "python",
   "nbconvert_exporter": "python",
   "pygments_lexer": "ipython3",
   "version": "3.11.13"
  }
 },
 "nbformat": 4,
 "nbformat_minor": 5
}
