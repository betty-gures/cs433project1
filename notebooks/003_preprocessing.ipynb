{
 "cells": [
  {
   "cell_type": "markdown",
   "id": "0887c483",
   "metadata": {},
   "source": [
    "# 003: Preprocessing the data"
   ]
  },
  {
   "cell_type": "code",
   "execution_count": 1,
   "id": "9f23c4d6",
   "metadata": {},
   "outputs": [],
   "source": [
    "import sys\n",
    "\n",
    "import numpy as np\n",
    "\n",
    "sys.path.append(\"../\")\n",
    "import helpers\n",
    "\n",
    "%load_ext autoreload\n",
    "%autoreload 2"
   ]
  },
  {
   "cell_type": "code",
   "execution_count": 32,
   "id": "4e5c4224",
   "metadata": {},
   "outputs": [],
   "source": [
    "x_train, x_test, y_train, train_ids, test_ids = helpers.load_csv_data(\"../data/dataset\", sub_sample=False)"
   ]
  },
  {
   "cell_type": "code",
   "execution_count": 34,
   "id": "a506e37a",
   "metadata": {},
   "outputs": [],
   "source": [
    "missing_values = []\n",
    "with open(\"../data/missing_values.txt\", \"r\") as f:\n",
    "    for line in f:\n",
    "        line = line.strip().strip('\"')  # remove whitespace and surrounding quotes\n",
    "        # split by comma and convert to int\n",
    "        if line == \"\":\n",
    "            missing_values.append([])\n",
    "        else:\n",
    "            numbers = [int(x.strip()) for x in line.split(\",\")]\n",
    "            missing_values.append(numbers)"
   ]
  },
  {
   "cell_type": "code",
   "execution_count": 35,
   "id": "dd7dc987",
   "metadata": {},
   "outputs": [],
   "source": [
    "for col, miss_vals in enumerate(missing_values):\n",
    "    for miss_val in miss_vals:\n",
    "        x_train[x_train[:, col] == miss_val, col] = np.nan\n",
    "        x_test[x_test[:, col] == miss_val, col] = np.nan"
   ]
  },
  {
   "cell_type": "code",
   "execution_count": 36,
   "id": "91a46ee1",
   "metadata": {},
   "outputs": [],
   "source": [
    "# kick out features with no variance\n",
    "stds = np.std(x_train, axis=0)\n",
    "x_train = x_train[:, stds > 0]\n",
    "stds = np.std(x_test, axis=0)\n",
    "x_test = x_test[:, stds > 0]"
   ]
  },
  {
   "cell_type": "code",
   "execution_count": 37,
   "id": "01202334",
   "metadata": {},
   "outputs": [],
   "source": [
    "# Missing value imputation\n",
    "# Mean imputation for each column in x_train\n",
    "def impute_missing_values(x):\n",
    "    col_means = np.nanmean(x, axis=0)\n",
    "    inds = np.where(np.isnan(x))\n",
    "    x[inds] = np.take(col_means, inds[1])\n",
    "    return x\n",
    "x_train = impute_missing_values(x_train)\n",
    "x_test = impute_missing_values(x_test)"
   ]
  },
  {
   "cell_type": "code",
   "execution_count": null,
   "id": "8a5905eb",
   "metadata": {},
   "outputs": [],
   "source": [
    "x_train = (x_train - x_train.mean(axis=0)) / x_train.std(axis=0)\n",
    "x_test = (x_test - x_test.mean(axis=0)) / x_test.std(axis=0)"
   ]
  },
  {
   "cell_type": "code",
   "execution_count": 27,
   "id": "d1d6d746",
   "metadata": {},
   "outputs": [],
   "source": [
    "y_train = (y_train + 1) / 2  # convert to 0/1"
   ]
  },
  {
   "cell_type": "code",
   "execution_count": 42,
   "id": "e9bc97a6",
   "metadata": {},
   "outputs": [],
   "source": [
    "np.savez(\"../data/dataset_prep/train.npz\", x_train=x_train, y_train=y_train)\n",
    "np.savez(\"../data/dataset_prep/test.npz\", x_test=x_test)"
   ]
  }
 ],
 "metadata": {
  "kernelspec": {
   "display_name": "project1-dev",
   "language": "python",
   "name": "python3"
  },
  "language_info": {
   "codemirror_mode": {
    "name": "ipython",
    "version": 3
   },
   "file_extension": ".py",
   "mimetype": "text/x-python",
   "name": "python",
   "nbconvert_exporter": "python",
   "pygments_lexer": "ipython3",
   "version": "3.10.18"
  }
 },
 "nbformat": 4,
 "nbformat_minor": 5
}
