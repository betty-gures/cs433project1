{
 "cells": [
  {
   "cell_type": "markdown",
   "id": "0887c483",
   "metadata": {},
   "source": [
    "# 003: Preprocessing the data"
   ]
  },
  {
   "cell_type": "code",
   "execution_count": 10,
   "id": "9f23c4d6",
   "metadata": {},
   "outputs": [
    {
     "name": "stdout",
     "output_type": "stream",
     "text": [
      "The autoreload extension is already loaded. To reload it, use:\n",
      "  %reload_ext autoreload\n"
     ]
    }
   ],
   "source": [
    "import sys\n",
    "\n",
    "import numpy as np\n",
    "\n",
    "sys.path.append(\"../\")\n",
    "import helpers\n",
    "\n",
    "%load_ext autoreload\n",
    "%autoreload 2"
   ]
  },
  {
   "cell_type": "code",
   "execution_count": 17,
   "id": "4e5c4224",
   "metadata": {},
   "outputs": [],
   "source": [
    "x_train, x_test, y_train, train_ids, test_ids = helpers.load_csv_data(\"../data/dataset\", sub_sample=False)"
   ]
  },
  {
   "cell_type": "code",
   "execution_count": 18,
   "id": "a506e37a",
   "metadata": {},
   "outputs": [],
   "source": [
    "# load and parse missing values\n",
    "missing_values = []\n",
    "with open(\"../data/missing_values.txt\", \"r\") as f:\n",
    "    for line in f:\n",
    "        line = line.strip().strip('\"')  # remove whitespace and surrounding quotes\n",
    "        # split by comma and convert to int\n",
    "        if line == \"\":\n",
    "            missing_values.append([])\n",
    "        else:\n",
    "            numbers = [int(x.strip()) for x in line.split(\",\")]\n",
    "            missing_values.append(numbers)\n",
    "\n",
    "# replace missing values with np.nan\n",
    "for col, miss_vals in enumerate(missing_values):\n",
    "    for miss_val in miss_vals:\n",
    "        x_train[x_train[:, col] == miss_val, col] = np.nan\n",
    "        x_test[x_test[:, col] == miss_val, col] = np.nan"
   ]
  },
  {
   "cell_type": "code",
   "execution_count": 23,
   "id": "ae79d685",
   "metadata": {},
   "outputs": [],
   "source": [
    "# Missing value imputation\n",
    "# Mean imputation for each column in x_train\n",
    "def impute_missing_values(x):\n",
    "    col_means = np.nanmean(x, axis=0)\n",
    "    inds = np.where(np.isnan(x))\n",
    "    x[inds] = np.take(col_means, inds[1])\n",
    "    return x\n",
    "x_train = impute_missing_values(x_train)\n",
    "x_test = impute_missing_values(x_test)"
   ]
  },
  {
   "cell_type": "code",
   "execution_count": 24,
   "id": "91a46ee1",
   "metadata": {},
   "outputs": [],
   "source": [
    "# kick out features with no variance in training set\n",
    "stds = np.std(x_train, axis=0)\n",
    "x_train = x_train[:, stds > 0]\n",
    "x_test = x_test[:, stds > 0]"
   ]
  },
  {
   "cell_type": "code",
   "execution_count": 27,
   "id": "8a5905eb",
   "metadata": {},
   "outputs": [],
   "source": [
    "# feature scaling by standardization\n",
    "x_train = (x_train - x_train.mean(axis=0)) / x_train.std(axis=0)\n",
    "x_test = (x_test - x_test.mean(axis=0)) / x_test.std(axis=0)"
   ]
  },
  {
   "cell_type": "code",
   "execution_count": null,
   "id": "787d49e3",
   "metadata": {},
   "outputs": [],
   "source": [
    "# recoding of nominal and maybe others\n",
    "# TODO"
   ]
  },
  {
   "cell_type": "code",
   "execution_count": 28,
   "id": "d1d6d746",
   "metadata": {},
   "outputs": [],
   "source": [
    "y_train = (y_train + 1) / 2  # convert to 0/1"
   ]
  },
  {
   "cell_type": "code",
   "execution_count": 30,
   "id": "919e1923",
   "metadata": {},
   "outputs": [],
   "source": [
    "x_train = np.c_[np.ones((y_train.shape[0], 1)), x_train] # add bias term\n",
    "x_test = np.c_[np.ones((x_test.shape[0], 1)), x_test] # add bias term"
   ]
  },
  {
   "cell_type": "code",
   "execution_count": 32,
   "id": "e9bc97a6",
   "metadata": {},
   "outputs": [],
   "source": [
    "np.savez(\"../data/dataset_prep/train.npz\", x_train=x_train, y_train=y_train)\n",
    "np.savez(\"../data/dataset_prep/test.npz\", x_test=x_test, test_ids=test_ids)"
   ]
  }
 ],
 "metadata": {
  "kernelspec": {
   "display_name": "project1-dev",
   "language": "python",
   "name": "python3"
  },
  "language_info": {
   "codemirror_mode": {
    "name": "ipython",
    "version": 3
   },
   "file_extension": ".py",
   "mimetype": "text/x-python",
   "name": "python",
   "nbconvert_exporter": "python",
   "pygments_lexer": "ipython3",
   "version": "3.10.18"
  }
 },
 "nbformat": 4,
 "nbformat_minor": 5
}
