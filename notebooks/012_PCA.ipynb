{
 "cells": [
  {
   "cell_type": "markdown",
   "id": "1530f55b",
   "metadata": {},
   "source": [
    "# Exp 012: Test PCA"
   ]
  },
  {
   "cell_type": "code",
   "execution_count": 4,
   "id": "6e35462d",
   "metadata": {},
   "outputs": [
    {
     "name": "stdout",
     "output_type": "stream",
     "text": [
      "The autoreload extension is already loaded. To reload it, use:\n",
      "  %reload_ext autoreload\n"
     ]
    }
   ],
   "source": [
    "import sys\n",
    "\n",
    "import matplotlib.pyplot as plt\n",
    "import numpy as np\n",
    "\n",
    "sys.path.append(\"../\")\n",
    "from metrics import f_score, auc_roc\n",
    "from models import KNearestNeighbors\n",
    "from preprocessing import normalize_and_bias_data\n",
    "\n",
    "%load_ext autoreload\n",
    "%autoreload 2"
   ]
  },
  {
   "cell_type": "code",
   "execution_count": 2,
   "id": "43911ad1",
   "metadata": {},
   "outputs": [],
   "source": [
    "train = np.load(\"../data/dataset_prep/train.npz\")\n",
    "x_train = train[\"x_train\"]\n",
    "y_train = train[\"y_train\"]"
   ]
  },
  {
   "cell_type": "code",
   "execution_count": 5,
   "id": "11d1b598",
   "metadata": {},
   "outputs": [],
   "source": [
    "X = normalize_and_bias_data(x_train)"
   ]
  },
  {
   "cell_type": "code",
   "execution_count": null,
   "id": "753721a8",
   "metadata": {},
   "outputs": [],
   "source": [
    "X_centered = X - np.mean(X, axis=0)\n",
    "cov_matrix = np.cov(X_centered, rowvar=False)  # shape (n_features, n_features)\n",
    "eigenvalues, eigenvectors = np.linalg.eigh(cov_matrix)\n",
    "idx = np.argsort(eigenvalues)[::-1]\n",
    "eigenvalues = eigenvalues[idx]\n",
    "eigenvectors = eigenvectors[:, idx]\n"
   ]
  },
  {
   "cell_type": "code",
   "execution_count": 7,
   "id": "4013c3f8",
   "metadata": {},
   "outputs": [
    {
     "data": {
      "text/plain": [
       "[<matplotlib.lines.Line2D at 0x7b771b2d06d0>]"
      ]
     },
     "execution_count": 7,
     "metadata": {},
     "output_type": "execute_result"
    },
    {
     "data": {
      "image/png": "[encoded data removed]",
      "text/plain": [
       "<Figure size 640x480 with 1 Axes>"
      ]
     },
     "metadata": {},
     "output_type": "display_data"
    }
   ],
   "source": [
    "plt.plot(eigenvalues)"
   ]
  },
  {
   "cell_type": "code",
   "execution_count": 8,
   "id": "516d29b1",
   "metadata": {},
   "outputs": [
    {
     "name": "stdout",
     "output_type": "stream",
     "text": [
      "Projected data shape: (328135, 50)\n"
     ]
    }
   ],
   "source": [
    "k = 50  # for example\n",
    "W = eigenvectors[:, :k]\n",
    "X_pca = X_centered @ W\n",
    "\n",
    "print(\"Projected data shape:\", X_pca.shape)"
   ]
  },
  {
   "cell_type": "code",
   "execution_count": 35,
   "id": "92c82801",
   "metadata": {},
   "outputs": [
    {
     "name": "stdout",
     "output_type": "stream",
     "text": [
      "(90000, 10)\n",
      "(10000, 321)\n",
      "Processed 5% of test set\n",
      "Processed 10% of test set\n",
      "Processed 15% of test set\n",
      "Processed 20% of test set\n",
      "Processed 25% of test set\n",
      "Processed 30% of test set\n",
      "Processed 35% of test set\n",
      "Processed 40% of test set\n",
      "Processed 45% of test set\n",
      "Processed 50% of test set\n",
      "Processed 55% of test set\n",
      "Processed 60% of test set\n",
      "Processed 65% of test set\n",
      "Processed 70% of test set\n",
      "Processed 75% of test set\n",
      "Processed 80% of test set\n",
      "Processed 85% of test set\n",
      "Processed 90% of test set\n",
      "Processed 95% of test set\n",
      "Processed 100% of test set\n",
      "Evaluating k=75\n",
      "Finding best threshold...\n",
      "Best threshold: 0.165 with score 0.3679885673454806\n",
      "Evaluating k=151\n",
      "Finding best threshold...\n",
      "Best threshold: 0.155 with score 0.37364864864864866\n",
      "Evaluating k=301\n",
      "Finding best threshold...\n",
      "Best threshold: 0.16 with score 0.36892515076268173\n",
      "Evaluating k=375\n",
      "Finding best threshold...\n",
      "Best threshold: 0.15 with score 0.3712655253440752\n",
      "Evaluating k=451\n",
      "Finding best threshold...\n",
      "Best threshold: 0.165 with score 0.37264325323475045\n",
      "Evaluating k=601\n",
      "Finding best threshold...\n",
      "Best threshold: 0.155 with score 0.3712871287128713\n",
      "Evaluating k=1201\n",
      "Finding best threshold...\n",
      "Best threshold: 0.15 with score 0.36777583187390545\n",
      "Evaluating k=2401\n",
      "Finding best threshold...\n",
      "Best threshold: 0.145 with score 0.3584973166368515\n",
      "Evaluating k=4801\n",
      "Finding best threshold...\n",
      "Best threshold: 0.135 with score 0.36025280898876405\n",
      "Evaluating k=9601\n",
      "Finding best threshold...\n",
      "Best threshold: 0.135 with score 0.3589546502690238\n",
      "Evaluating k=19201\n",
      "Finding best threshold...\n",
      "Best threshold: 0.12 with score 0.3602484472049689\n",
      "Best k found: 151 with metric score: 0.37364864864864866\n",
      "Processed 5% of test set\n",
      "Processed 10% of test set\n",
      "Processed 15% of test set\n",
      "Processed 20% of test set\n",
      "Processed 25% of test set\n",
      "Processed 30% of test set\n",
      "Processed 35% of test set\n",
      "Processed 40% of test set\n",
      "Processed 45% of test set\n",
      "Processed 50% of test set\n",
      "Processed 55% of test set\n",
      "Processed 60% of test set\n",
      "Processed 65% of test set\n",
      "Processed 70% of test set\n",
      "Processed 75% of test set\n",
      "Processed 80% of test set\n",
      "Processed 85% of test set\n",
      "Processed 90% of test set\n",
      "Processed 95% of test set\n",
      "Processed 100% of test set\n",
      "F1 Score: 0.36973684210526314\n"
     ]
    }
   ],
   "source": [
    "knn = KNearestNeighbors(metric=f_score, use_pca=True)\n",
    "num_samples = 100000\n",
    "knn.hyperparameter_tuning(x_train[:num_samples], y_train[:num_samples], verbose=True)\n",
    "knn.train(x_train[:num_samples], y_train[:num_samples])\n",
    "predictions = knn.predict(x_train[num_samples:num_samples+5000])\n",
    "print(f\"F1 Score: {f_score(predictions, y_train[num_samples:num_samples+5000])}\")"
   ]
  }
 ],
 "metadata": {
  "kernelspec": {
   "display_name": "base",
   "language": "python",
   "name": "python3"
  },
  "language_info": {
   "codemirror_mode": {
    "name": "ipython",
    "version": 3
   },
   "file_extension": ".py",
   "mimetype": "text/x-python",
   "name": "python",
   "nbconvert_exporter": "python",
   "pygments_lexer": "ipython3",
   "version": "3.11.13"
  }
 },
 "nbformat": 4,
 "nbformat_minor": 5
}
