{
 "cells": [
  {
   "cell_type": "markdown",
   "id": "d8ff706e",
   "metadata": {},
   "source": [
    "# 005: Cross Validate Models"
   ]
  },
  {
   "cell_type": "code",
   "execution_count": 1,
   "id": "8110fad0",
   "metadata": {},
   "outputs": [],
   "source": [
    "import os\n",
    "import sys\n",
    "\n",
    "import numpy as np\n",
    "\n",
    "sys.path.append(\"../\")\n",
    "from models import OrdinaryLeastSquares, LogisticRegression, LinearSVM, KNearestNeighbors\n",
    "from model_selection import cross_validation\n",
    "from preprocessing import preprocess\n",
    "\n",
    "%load_ext autoreload\n",
    "%autoreload 2\n",
    "\n",
    "def print_results(cv_results):\n",
    "    print(f\"Average F1-score: {np.mean(cv_results.f1_scores)*100:.1f}% ± {np.std(cv_results.f1_scores)*100:.1f}\")\n",
    "    print(f\"Average F2-score: {np.mean(cv_results.f2_scores)*100:.1f}% ± {np.std(cv_results.f2_scores)*100:.1f}\")\n",
    "    print(f\"Average AUC-ROC: {np.mean(cv_results.auc_rocs)*100:.1f}% ± {np.std(cv_results.auc_rocs)*100:.1f}\")\n",
    "    print(f\" & {np.mean(cv_results.f1_scores)*100:.1f}±{np.std(cv_results.f1_scores)*100:.1f} & \"\n",
    "          f\"{np.mean(cv_results.f2_scores)*100:.1f}±{np.std(cv_results.f2_scores)*100:.1f} & \"\n",
    "          f\"{np.mean(cv_results.auc_rocs)*100:.1f}±{np.std(cv_results.auc_rocs)*100:.1f}\")"
   ]
  },
  {
   "cell_type": "code",
   "execution_count": null,
   "id": "f45de3cb",
   "metadata": {},
   "outputs": [
    {
     "name": "stdout",
     "output_type": "stream",
     "text": [
      "Loading raw data...\n",
      "Replacing missing value codes with np.nan...\n",
      "Saving preprocessed data to ../data/dataset_prep...\n"
     ]
    },
    {
     "data": {
      "text/plain": [
       "(328135, 321)"
      ]
     },
     "execution_count": 3,
     "metadata": {},
     "output_type": "execute_result"
    }
   ],
   "source": [
    "x_train, _, y_train, _ = preprocess(one_hot_encoding=True, save_dir=\"../data/dataset_prep\")\n",
    "x_train.shape"
   ]
  },
  {
   "cell_type": "code",
   "execution_count": 2,
   "id": "4b58a9e9",
   "metadata": {},
   "outputs": [
    {
     "data": {
      "text/plain": [
       "(328135, 321)"
      ]
     },
     "execution_count": 2,
     "metadata": {},
     "output_type": "execute_result"
    }
   ],
   "source": [
    "train = np.load(\"../data/dataset_prep/train.npz\")\n",
    "x_train, y_train = train[\"x_train\"], train[\"y_train\"]\n",
    "x_train.shape"
   ]
  },
  {
   "cell_type": "code",
   "execution_count": 7,
   "id": "1508ff7e",
   "metadata": {},
   "outputs": [
    {
     "name": "stdout",
     "output_type": "stream",
     "text": [
      "Loading raw data...\n",
      "Replacing missing value codes with np.nan...\n",
      "Applying one-hot encoding...\n"
     ]
    }
   ],
   "source": [
    "x_train, _, y_train, _ = preprocess(one_hot_encoding=True)"
   ]
  },
  {
   "cell_type": "code",
   "execution_count": 8,
   "id": "06903609",
   "metadata": {},
   "outputs": [
    {
     "name": "stdout",
     "output_type": "stream",
     "text": [
      "Cross-validating model: LinearSVM\n",
      "Starting fold 1/5 with 8000 samples\n",
      "Iteration 0, Training Loss: 1.0, Validation Loss: 1.0\n",
      "Iteration 100, Training Loss: 0.9401860452979481, Validation Loss: 0.932197808877839\n",
      "Iteration 200, Training Loss: 0.9340145899681016, Validation Loss: 0.9257373955130859\n",
      "Iteration 300, Training Loss: 0.932085946409309, Validation Loss: 0.924096095161523\n",
      "Iteration 400, Training Loss: 0.9309978168860384, Validation Loss: 0.9232947702936722\n",
      "Iteration 500, Training Loss: 0.9302596398180382, Validation Loss: 0.9227521124797892\n",
      "Iteration 600, Training Loss: 0.9297804563046741, Validation Loss: 0.9223695903837489\n",
      "Iteration 700, Training Loss: 0.9294292595464433, Validation Loss: 0.9220856205826305\n",
      "Iteration 800, Training Loss: 0.9291564166523801, Validation Loss: 0.9218720145035241\n",
      "Iteration 900, Training Loss: 0.9289572185717501, Validation Loss: 0.9217206658842756\n",
      "Iteration 0, Training Loss: 1.0, Validation Loss: 1.0\n",
      "Iteration 100, Training Loss: 0.9288611714862879, Validation Loss: 0.9216866687620555\n",
      "Early stopping at iteration 126\n",
      "Iteration 0, Training Loss: 1.0, Validation Loss: 1.0\n",
      "Iteration 100, Training Loss: 0.942502899842751, Validation Loss: 0.9346975610590621\n",
      "Iteration 200, Training Loss: 0.9372539419251598, Validation Loss: 0.9292934968748264\n",
      "Iteration 300, Training Loss: 0.9357318638296743, Validation Loss: 0.9279682128299592\n",
      "Iteration 400, Training Loss: 0.9349903610962378, Validation Loss: 0.9273777644800444\n",
      "Iteration 500, Training Loss: 0.9346260094859037, Validation Loss: 0.9271120300492126\n",
      "Iteration 600, Training Loss: 0.9344297783015776, Validation Loss: 0.9269758884380833\n",
      "Iteration 700, Training Loss: 0.9343257206431426, Validation Loss: 0.9269142383501103\n",
      "Early stopping at iteration 721\n",
      "Iteration 0, Training Loss: 1.0, Validation Loss: 1.0\n",
      "Early stopping at iteration 92\n",
      "Iteration 0, Training Loss: 1.0, Validation Loss: 1.0\n",
      "Iteration 100, Training Loss: 0.9473890826149244, Validation Loss: 0.9398606948446286\n",
      "Iteration 200, Training Loss: 0.9437472663345291, Validation Loss: 0.9363147573623523\n",
      "Iteration 300, Training Loss: 0.9429122859581444, Validation Loss: 0.9355239328310208\n",
      "Iteration 400, Training Loss: 0.9426330320112437, Validation Loss: 0.9352571608882608\n",
      "Iteration 500, Training Loss: 0.9425356034374562, Validation Loss: 0.9351599245209634\n",
      "Early stopping at iteration 567\n",
      "Iteration 0, Training Loss: 1.0, Validation Loss: 1.0\n",
      "Early stopping at iteration 65\n",
      "Iteration 0, Training Loss: 1.0, Validation Loss: 1.0\n",
      "Iteration 100, Training Loss: 0.9562787551024621, Validation Loss: 0.9495221448511251\n",
      "Iteration 200, Training Loss: 0.9545481854164986, Validation Loss: 0.9477539166294672\n",
      "Iteration 300, Training Loss: 0.9543856779707426, Validation Loss: 0.9475952171359914\n",
      "Early stopping at iteration 309\n",
      "Iteration 0, Training Loss: 1.0, Validation Loss: 1.0\n",
      "Early stopping at iteration 39\n",
      "Iteration 0, Training Loss: 1.0, Validation Loss: 1.0\n",
      "Iteration 100, Training Loss: 0.969821230102047, Validation Loss: 0.9652576123013733\n",
      "Iteration 200, Training Loss: 0.9694338462033103, Validation Loss: 0.9648209892394334\n",
      "Early stopping at iteration 208\n",
      "Iteration 0, Training Loss: 1.0, Validation Loss: 1.0\n",
      "Early stopping at iteration 77\n",
      "use saved scores\n",
      "Fold 1 - F1: 0.33893919793014227, F2: 0.5057915057915058, AUC-ROC: 0.8328769623950347\n",
      "Starting fold 2/5 with 8000 samples\n",
      "Iteration 0, Training Loss: 1.0, Validation Loss: 1.0\n",
      "Iteration 100, Training Loss: 0.9389793316552121, Validation Loss: 0.9376754839345464\n",
      "Iteration 200, Training Loss: 0.932847171714861, Validation Loss: 0.9318865684280061\n",
      "Iteration 300, Training Loss: 0.9309299699942294, Validation Loss: 0.930300655601917\n",
      "Iteration 400, Training Loss: 0.9297337805891195, Validation Loss: 0.929460894097208\n",
      "Iteration 500, Training Loss: 0.9289568221915436, Validation Loss: 0.9289732025351729\n",
      "Iteration 600, Training Loss: 0.928419692376296, Validation Loss: 0.9286078738859831\n",
      "Iteration 700, Training Loss: 0.9280306153193334, Validation Loss: 0.928355265471639\n",
      "Iteration 800, Training Loss: 0.9277287937138641, Validation Loss: 0.9281671313833221\n",
      "Iteration 900, Training Loss: 0.9275063169678056, Validation Loss: 0.9280331725901312\n",
      "Iteration 0, Training Loss: 1.0, Validation Loss: 1.0\n",
      "Iteration 100, Training Loss: 0.9273367541299006, Validation Loss: 0.9279136216762569\n",
      "Early stopping at iteration 146\n",
      "Iteration 0, Training Loss: 1.0, Validation Loss: 1.0\n",
      "Iteration 100, Training Loss: 0.9413563383239599, Validation Loss: 0.9399521332802494\n",
      "Iteration 200, Training Loss: 0.9361877159850519, Validation Loss: 0.9351623219297466\n",
      "Iteration 300, Training Loss: 0.9346139622850012, Validation Loss: 0.9338903328921117\n",
      "Iteration 400, Training Loss: 0.933970595188635, Validation Loss: 0.9333929198151055\n"
     ]
    },
    {
     "ename": "KeyboardInterrupt",
     "evalue": "",
     "output_type": "error",
     "traceback": [
      "\u001b[31m---------------------------------------------------------------------------\u001b[39m",
      "\u001b[31mKeyboardInterrupt\u001b[39m                         Traceback (most recent call last)",
      "\u001b[36mCell\u001b[39m\u001b[36m \u001b[39m\u001b[32mIn[8]\u001b[39m\u001b[32m, line 10\u001b[39m\n\u001b[32m      8\u001b[39m \u001b[38;5;28mprint\u001b[39m(\u001b[33mf\u001b[39m\u001b[33m\"\u001b[39m\u001b[33mCross-validating model: \u001b[39m\u001b[38;5;132;01m{\u001b[39;00mmodel[\u001b[33m'\u001b[39m\u001b[33mmodel_class\u001b[39m\u001b[33m'\u001b[39m].\u001b[34m__name__\u001b[39m\u001b[38;5;132;01m}\u001b[39;00m\u001b[33m\"\u001b[39m)\n\u001b[32m      9\u001b[39m num_samples = \u001b[38;5;28mint\u001b[39m(\u001b[32m1e4\u001b[39m) \u001b[38;5;28;01mif\u001b[39;00m model[\u001b[33m'\u001b[39m\u001b[33mmodel_class\u001b[39m\u001b[33m'\u001b[39m] != KNearestNeighbors \u001b[38;5;28;01melse\u001b[39;00m \u001b[38;5;28mint\u001b[39m(\u001b[32m1e4\u001b[39m)\n\u001b[32m---> \u001b[39m\u001b[32m10\u001b[39m cv_results = \u001b[43mcross_validation\u001b[49m\u001b[43m(\u001b[49m\u001b[43mx_train\u001b[49m\u001b[43m[\u001b[49m\u001b[43m:\u001b[49m\u001b[43mnum_samples\u001b[49m\u001b[43m]\u001b[49m\u001b[43m,\u001b[49m\u001b[43m \u001b[49m\u001b[43my_train\u001b[49m\u001b[43m[\u001b[49m\u001b[43m:\u001b[49m\u001b[43mnum_samples\u001b[49m\u001b[43m]\u001b[49m\u001b[43m,\u001b[49m\u001b[43m \u001b[49m\u001b[43mverbose\u001b[49m\u001b[43m=\u001b[49m\u001b[38;5;28;43;01mTrue\u001b[39;49;00m\u001b[43m,\u001b[49m\u001b[43m \u001b[49m\u001b[43m*\u001b[49m\u001b[43m*\u001b[49m\u001b[43mmodel\u001b[49m\u001b[43m)\u001b[49m\n\u001b[32m     11\u001b[39m print_results(cv_results)\n\u001b[32m     12\u001b[39m \u001b[38;5;28;01mbreak\u001b[39;00m\n",
      "\u001b[36mFile \u001b[39m\u001b[32m/data/glandorf/cs433project1/notebooks/../model_selection.py:68\u001b[39m, in \u001b[36mcross_validation\u001b[39m\u001b[34m(x_train, y_train, model_class, num_folds, seed, verbose, scoring_groups, max_test, **model_args)\u001b[39m\n\u001b[32m     65\u001b[39m \u001b[38;5;28mprint\u001b[39m(\u001b[33mf\u001b[39m\u001b[33m\"\u001b[39m\u001b[33mStarting fold \u001b[39m\u001b[38;5;132;01m{\u001b[39;00mfold_idx\u001b[38;5;250m \u001b[39m+\u001b[38;5;250m \u001b[39m\u001b[32m1\u001b[39m\u001b[38;5;132;01m}\u001b[39;00m\u001b[33m/\u001b[39m\u001b[38;5;132;01m{\u001b[39;00mnum_folds\u001b[38;5;132;01m}\u001b[39;00m\u001b[33m with \u001b[39m\u001b[38;5;132;01m{\u001b[39;00mtrain_idx.shape[\u001b[32m0\u001b[39m]\u001b[38;5;132;01m}\u001b[39;00m\u001b[33m samples\u001b[39m\u001b[33m\"\u001b[39m)\n\u001b[32m     67\u001b[39m model = model_class(**model_args) \u001b[38;5;66;03m# initialize a new model for each fold\u001b[39;00m\n\u001b[32m---> \u001b[39m\u001b[32m68\u001b[39m \u001b[43mmodel\u001b[49m\u001b[43m.\u001b[49m\u001b[43mhyperparameter_tuning\u001b[49m\u001b[43m(\u001b[49m\u001b[43mx_train\u001b[49m\u001b[43m[\u001b[49m\u001b[43mtrain_idx\u001b[49m\u001b[43m]\u001b[49m\u001b[43m,\u001b[49m\u001b[43m \u001b[49m\u001b[43my_train\u001b[49m\u001b[43m[\u001b[49m\u001b[43mtrain_idx\u001b[49m\u001b[43m]\u001b[49m\u001b[43m,\u001b[49m\u001b[43m \u001b[49m\u001b[43mf_score\u001b[49m\u001b[43m,\u001b[49m\u001b[43m \u001b[49m\u001b[43mverbose\u001b[49m\u001b[43m=\u001b[49m\u001b[43mverbose\u001b[49m\u001b[43m)\u001b[49m\n\u001b[32m     69\u001b[39m model.train(x_train[train_idx], y_train[train_idx]) \u001b[38;5;66;03m# train the model\u001b[39;00m\n\u001b[32m     70\u001b[39m y_probs = model.predict(x_train[val_idx], save_scores=\u001b[38;5;28;01mTrue\u001b[39;00m, scores=\u001b[38;5;28;01mTrue\u001b[39;00m)\n",
      "\u001b[36mFile \u001b[39m\u001b[32m<string>:37\u001b[39m, in \u001b[36mhyperparameter_tuning\u001b[39m\u001b[34m(self, X, y, metric, verbose)\u001b[39m\n",
      "\u001b[36mFile \u001b[39m\u001b[32m/data/glandorf/cs433project1/notebooks/../models.py:388\u001b[39m, in \u001b[36mLinearSVM.gradient_step\u001b[39m\u001b[34m(self, X, y)\u001b[39m\n\u001b[32m    386\u001b[39m margins = y * (X @ \u001b[38;5;28mself\u001b[39m.w) \u001b[38;5;66;03m# compute margins\u001b[39;00m\n\u001b[32m    387\u001b[39m mask = margins < \u001b[32m1\u001b[39m \u001b[38;5;66;03m# find misclassified samples\u001b[39;00m\n\u001b[32m--> \u001b[39m\u001b[32m388\u001b[39m dw = \u001b[38;5;28mself\u001b[39m._lambda * \u001b[38;5;28mself\u001b[39m.w - \u001b[43mnp\u001b[49m\u001b[43m.\u001b[49m\u001b[43mmean\u001b[49m\u001b[43m(\u001b[49m\u001b[43m(\u001b[49m\u001b[43mmask\u001b[49m\u001b[43m[\u001b[49m\u001b[43m:\u001b[49m\u001b[43m,\u001b[49m\u001b[43m \u001b[49m\u001b[38;5;28;43;01mNone\u001b[39;49;00m\u001b[43m]\u001b[49m\u001b[43m \u001b[49m\u001b[43m*\u001b[49m\u001b[43m \u001b[49m\u001b[43my\u001b[49m\u001b[43m[\u001b[49m\u001b[43m:\u001b[49m\u001b[43m,\u001b[49m\u001b[43m \u001b[49m\u001b[38;5;28;43;01mNone\u001b[39;49;00m\u001b[43m]\u001b[49m\u001b[43m)\u001b[49m\u001b[43m \u001b[49m\u001b[43m*\u001b[49m\u001b[43m \u001b[49m\u001b[43mX\u001b[49m\u001b[43m,\u001b[49m\u001b[43m \u001b[49m\u001b[43maxis\u001b[49m\u001b[43m=\u001b[49m\u001b[32;43m0\u001b[39;49m\u001b[43m)\u001b[49m \u001b[38;5;66;03m# gradient calculation\u001b[39;00m\n\u001b[32m    389\u001b[39m \u001b[38;5;28mself\u001b[39m.w -= \u001b[38;5;28mself\u001b[39m.lr * dw\n",
      "\u001b[36mFile \u001b[39m\u001b[32m/opt/conda/lib/python3.11/site-packages/numpy/_core/fromnumeric.py:3730\u001b[39m, in \u001b[36m_mean_dispatcher\u001b[39m\u001b[34m(a, axis, dtype, out, keepdims, where)\u001b[39m\n\u001b[32m   3715\u001b[39m \u001b[38;5;250m    \u001b[39m\u001b[33;03m\"\"\"\u001b[39;00m\n\u001b[32m   3716\u001b[39m \u001b[33;03m    Round an array to the given number of decimals.\u001b[39;00m\n\u001b[32m   3717\u001b[39m \n\u001b[32m   (...)\u001b[39m\u001b[32m   3725\u001b[39m \n\u001b[32m   3726\u001b[39m \u001b[33;03m    \"\"\"\u001b[39;00m\n\u001b[32m   3727\u001b[39m     \u001b[38;5;28;01mreturn\u001b[39;00m _wrapfunc(a, \u001b[33m'\u001b[39m\u001b[33mround\u001b[39m\u001b[33m'\u001b[39m, decimals=decimals, out=out)\n\u001b[32m-> \u001b[39m\u001b[32m3730\u001b[39m \u001b[38;5;28;01mdef\u001b[39;00m\u001b[38;5;250m \u001b[39m\u001b[34m_mean_dispatcher\u001b[39m(a, axis=\u001b[38;5;28;01mNone\u001b[39;00m, dtype=\u001b[38;5;28;01mNone\u001b[39;00m, out=\u001b[38;5;28;01mNone\u001b[39;00m, keepdims=\u001b[38;5;28;01mNone\u001b[39;00m, *,\n\u001b[32m   3731\u001b[39m                      where=\u001b[38;5;28;01mNone\u001b[39;00m):\n\u001b[32m   3732\u001b[39m     \u001b[38;5;28;01mreturn\u001b[39;00m (a, where, out)\n\u001b[32m   3735\u001b[39m \u001b[38;5;129m@array_function_dispatch\u001b[39m(_mean_dispatcher)\n\u001b[32m   3736\u001b[39m \u001b[38;5;28;01mdef\u001b[39;00m\u001b[38;5;250m \u001b[39m\u001b[34mmean\u001b[39m(a, axis=\u001b[38;5;28;01mNone\u001b[39;00m, dtype=\u001b[38;5;28;01mNone\u001b[39;00m, out=\u001b[38;5;28;01mNone\u001b[39;00m, keepdims=np._NoValue, *,\n\u001b[32m   3737\u001b[39m          where=np._NoValue):\n",
      "\u001b[31mKeyboardInterrupt\u001b[39m: "
     ]
    }
   ],
   "source": [
    "model_settings = [\n",
    "    #{\"model_class\": OrdinaryLeastSquares},\n",
    "    #{\"model_class\": LogisticRegression, \"gamma\": 1e-2},\n",
    "    {\"model_class\": LinearSVM},\n",
    "    #{\"model_class\": KNearestNeighbors, \"use_pca\": True},\n",
    "]\n",
    "for model in model_settings:\n",
    "    print(f\"Cross-validating model: {model['model_class'].__name__}\")\n",
    "    num_samples = int(1e4) if model['model_class'] != KNearestNeighbors else int(1e4)\n",
    "    cv_results = cross_validation(x_train[:num_samples], y_train[:num_samples], verbose=True, **model)\n",
    "    print_results(cv_results)\n",
    "    break\n",
    "    out_dir = \"../results\"\n",
    "    os.makedirs(out_dir, exist_ok=True)\n",
    "    out_path = os.path.join(out_dir, f\"{model['model_class'].__name__}.txt\")\n",
    "\n",
    "    with open(out_path, \"w\") as f:\n",
    "        f.write(f\"Model: {model['model_class'].__name__}\\n\\n\")\n",
    "        f.write(\"cv_results repr:\\n\")\n",
    "        f.write(repr(cv_results))\n",
    "        f.write(\"\\n\\n\")\n",
    "        f.write(\"Aggregated metrics:\\n\")\n",
    "        f.write(f\"Average F1-score: {np.mean(cv_results.f1_scores)*100:.1f}% ± {np.std(cv_results.f1_scores)*100:.1f}\\n\")\n",
    "        f.write(f\"Average F2-score: {np.mean(cv_results.f2_scores)*100:.1f}% ± {np.std(cv_results.f2_scores)*100:.1f}\\n\")\n",
    "        f.write(f\"Average AUC-ROC: {np.mean(cv_results.auc_rocs)*100:.1f}% ± {np.std(cv_results.auc_rocs)*100:.1f}\\n\")\n",
    "    "
   ]
  }
 ],
 "metadata": {
  "kernelspec": {
   "display_name": "base",
   "language": "python",
   "name": "python3"
  },
  "language_info": {
   "codemirror_mode": {
    "name": "ipython",
    "version": 3
   },
   "file_extension": ".py",
   "mimetype": "text/x-python",
   "name": "python",
   "nbconvert_exporter": "python",
   "pygments_lexer": "ipython3",
   "version": "3.11.13"
  }
 },
 "nbformat": 4,
 "nbformat_minor": 5
}
