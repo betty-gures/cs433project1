{
 "cells": [
  {
   "cell_type": "markdown",
   "id": "d8ff706e",
   "metadata": {},
   "source": [
    "# 005: Cross Validate Models"
   ]
  },
  {
   "cell_type": "code",
   "execution_count": null,
   "id": "8110fad0",
   "metadata": {},
   "outputs": [],
   "source": [
    "import os\n",
    "import sys\n",
    "\n",
    "import numpy as np\n",
    "\n",
    "sys.path.append(\"../\")\n",
    "from models import OrdinaryLeastSquares, LogisticRegression, LinearSVM, KNearestNeighbors\n",
    "from model_selection import cross_validation\n",
    "from preprocessing import preprocess, normalize_and_bias_data\n",
    "\n",
    "%load_ext autoreload\n",
    "%autoreload 2\n",
    "\n",
    "def print_results(cv_results):\n",
    "    print(f\"Average F1-score: {np.mean(cv_results.f1_scores)*100:.1f}% ± {np.std(cv_results.f1_scores)*100:.1f}\")\n",
    "    print(f\"Average F2-score: {np.mean(cv_results.f2_scores)*100:.1f}% ± {np.std(cv_results.f2_scores)*100:.1f}\")\n",
    "    print(f\"Average AUC-ROC: {np.mean(cv_results.auc_rocs)*100:.1f}% ± {np.std(cv_results.auc_rocs)*100:.1f}\")\n",
    "    print(f\" & {np.mean(cv_results.f1_scores)*100:.1f}±{np.std(cv_results.f1_scores)*100:.1f} & \"\n",
    "          f\"{np.mean(cv_results.f2_scores)*100:.1f}±{np.std(cv_results.f2_scores)*100:.1f} & \"\n",
    "          f\"{np.mean(cv_results.auc_rocs)*100:.1f}±{np.std(cv_results.auc_rocs)*100:.1f}\")"
   ]
  },
  {
   "cell_type": "code",
   "execution_count": 3,
   "id": "f45de3cb",
   "metadata": {},
   "outputs": [
    {
     "name": "stdout",
     "output_type": "stream",
     "text": [
      "Loading raw data...\n",
      "Replacing missing value codes with np.nan...\n",
      "Applying one-hot encoding...\n",
      "Saving preprocessed data to ../data/dataset_prep...\n"
     ]
    },
    {
     "data": {
      "text/plain": [
       "(328135, 622)"
      ]
     },
     "execution_count": 3,
     "metadata": {},
     "output_type": "execute_result"
    }
   ],
   "source": [
    "x_train, _, y_train, *_ = preprocess(save_dir=\"../data/dataset_prep\")\n",
    "x_train.shape"
   ]
  },
  {
   "cell_type": "code",
   "execution_count": 2,
   "id": "4b58a9e9",
   "metadata": {},
   "outputs": [
    {
     "data": {
      "text/plain": [
       "(328135, 321)"
      ]
     },
     "execution_count": 2,
     "metadata": {},
     "output_type": "execute_result"
    }
   ],
   "source": [
    "train = np.load(\"../data/dataset_prep/train.npz\")\n",
    "x_train, y_train = train[\"x_train\"], train[\"y_train\"]\n",
    "x_train.shape"
   ]
  },
  {
   "cell_type": "code",
   "execution_count": 11,
   "id": "1508ff7e",
   "metadata": {},
   "outputs": [
    {
     "name": "stdout",
     "output_type": "stream",
     "text": [
      "Replacing missing value codes with np.nan...\n"
     ]
    }
   ],
   "source": [
    "x_train, _, y_train, *_ = preprocess(one_hot_encoding=False)"
   ]
  },
  {
   "cell_type": "code",
   "execution_count": 13,
   "id": "06903609",
   "metadata": {},
   "outputs": [
    {
     "name": "stdout",
     "output_type": "stream",
     "text": [
      "Cross-validating model: LinearSVM\n",
      "Starting fold 1/5 with 80000 samples\n",
      "Iteration 0, Training Loss: 1.0, Validation Loss: 1.0\n",
      "Iteration 100, Training Loss: 0.9442201023753964, Validation Loss: 0.9451980027752828\n",
      "Iteration 200, Training Loss: 0.936689514988119, Validation Loss: 0.9372818248793686\n",
      "Iteration 300, Training Loss: 0.9341161105310835, Validation Loss: 0.9345789244272138\n",
      "Iteration 400, Training Loss: 0.9329074638290952, Validation Loss: 0.9333286632557469\n",
      "Iteration 500, Training Loss: 0.9322472404970871, Validation Loss: 0.9326594293336611\n",
      "Iteration 600, Training Loss: 0.9318230746220649, Validation Loss: 0.9322369505624529\n",
      "Iteration 700, Training Loss: 0.9315318426137287, Validation Loss: 0.9319496666603637\n",
      "Iteration 800, Training Loss: 0.9313263231078395, Validation Loss: 0.9317492393486827\n",
      "Iteration 900, Training Loss: 0.9311810151510108, Validation Loss: 0.9316085809625748\n",
      "Iteration 0, Training Loss: 1.0, Validation Loss: 1.0\n",
      "Iteration 100, Training Loss: 0.9310581932156438, Validation Loss: 0.9314901085507722\n",
      "Iteration 200, Training Loss: 0.9307495293878483, Validation Loss: 0.9311915257729082\n",
      "Early stopping at iteration 261\n",
      "Iteration 0, Training Loss: 1.0, Validation Loss: 1.0\n",
      "Iteration 100, Training Loss: 0.946813882987721, Validation Loss: 0.9478277835649951\n",
      "Iteration 200, Training Loss: 0.9406540221848265, Validation Loss: 0.94146672647876\n",
      "Iteration 300, Training Loss: 0.9388803266958987, Validation Loss: 0.9396191430434728\n",
      "Iteration 400, Training Loss: 0.9382131556965868, Validation Loss: 0.9389357480916383\n",
      "Iteration 500, Training Loss: 0.9379157124314426, Validation Loss: 0.9386308099361927\n",
      "Iteration 600, Training Loss: 0.9377553647809475, Validation Loss: 0.938467248498089\n",
      "Iteration 700, Training Loss: 0.9376730773073655, Validation Loss: 0.938383933864719\n",
      "Iteration 800, Training Loss: 0.9376263207662636, Validation Loss: 0.9383365995587797\n",
      "Iteration 900, Training Loss: 0.9376000076021269, Validation Loss: 0.9383101131881877\n",
      "Iteration 0, Training Loss: 1.0, Validation Loss: 1.0\n",
      "Iteration 100, Training Loss: 0.9375765290725816, Validation Loss: 0.9382857455759942\n"
     ]
    },
    {
     "ename": "KeyboardInterrupt",
     "evalue": "",
     "output_type": "error",
     "traceback": [
      "\u001b[31m---------------------------------------------------------------------------\u001b[39m",
      "\u001b[31mKeyboardInterrupt\u001b[39m                         Traceback (most recent call last)",
      "\u001b[36mCell\u001b[39m\u001b[36m \u001b[39m\u001b[32mIn[13]\u001b[39m\u001b[32m, line 10\u001b[39m\n\u001b[32m      8\u001b[39m \u001b[38;5;28mprint\u001b[39m(\u001b[33mf\u001b[39m\u001b[33m\"\u001b[39m\u001b[33mCross-validating model: \u001b[39m\u001b[38;5;132;01m{\u001b[39;00mmodel[\u001b[33m'\u001b[39m\u001b[33mmodel_class\u001b[39m\u001b[33m'\u001b[39m].\u001b[34m__name__\u001b[39m\u001b[38;5;132;01m}\u001b[39;00m\u001b[33m\"\u001b[39m)\n\u001b[32m      9\u001b[39m num_samples = \u001b[38;5;28mint\u001b[39m(\u001b[32m1e5\u001b[39m) \u001b[38;5;28;01mif\u001b[39;00m model[\u001b[33m'\u001b[39m\u001b[33mmodel_class\u001b[39m\u001b[33m'\u001b[39m] != KNearestNeighbors \u001b[38;5;28;01melse\u001b[39;00m \u001b[38;5;28mint\u001b[39m(\u001b[32m1e5\u001b[39m)\n\u001b[32m---> \u001b[39m\u001b[32m10\u001b[39m cv_results = \u001b[43mcross_validation\u001b[49m\u001b[43m(\u001b[49m\u001b[43mx_train\u001b[49m\u001b[43m[\u001b[49m\u001b[43m:\u001b[49m\u001b[43mnum_samples\u001b[49m\u001b[43m]\u001b[49m\u001b[43m,\u001b[49m\u001b[43m \u001b[49m\u001b[43my_train\u001b[49m\u001b[43m[\u001b[49m\u001b[43m:\u001b[49m\u001b[43mnum_samples\u001b[49m\u001b[43m]\u001b[49m\u001b[43m,\u001b[49m\u001b[43m \u001b[49m\u001b[43mverbose\u001b[49m\u001b[43m=\u001b[49m\u001b[38;5;28;43;01mTrue\u001b[39;49;00m\u001b[43m,\u001b[49m\u001b[43m \u001b[49m\u001b[43m*\u001b[49m\u001b[43m*\u001b[49m\u001b[43mmodel\u001b[49m\u001b[43m)\u001b[49m\n\u001b[32m     11\u001b[39m print_results(cv_results)\n\u001b[32m     12\u001b[39m \u001b[38;5;28;01mif\u001b[39;00m num_samples != \u001b[32m1e6\u001b[39m: \u001b[38;5;28;01mbreak\u001b[39;00m\n",
      "\u001b[36mFile \u001b[39m\u001b[32m/data/glandorf/cs433project1/notebooks/../model_selection.py:67\u001b[39m, in \u001b[36mcross_validation\u001b[39m\u001b[34m(x_train, y_train, model_class, num_folds, seed, verbose, scoring_groups, max_test, **model_args)\u001b[39m\n\u001b[32m     64\u001b[39m \u001b[38;5;28mprint\u001b[39m(\u001b[33mf\u001b[39m\u001b[33m\"\u001b[39m\u001b[33mStarting fold \u001b[39m\u001b[38;5;132;01m{\u001b[39;00mfold_idx\u001b[38;5;250m \u001b[39m+\u001b[38;5;250m \u001b[39m\u001b[32m1\u001b[39m\u001b[38;5;132;01m}\u001b[39;00m\u001b[33m/\u001b[39m\u001b[38;5;132;01m{\u001b[39;00mnum_folds\u001b[38;5;132;01m}\u001b[39;00m\u001b[33m with \u001b[39m\u001b[38;5;132;01m{\u001b[39;00mtrain_idx.shape[\u001b[32m0\u001b[39m]\u001b[38;5;132;01m}\u001b[39;00m\u001b[33m samples\u001b[39m\u001b[33m\"\u001b[39m)\n\u001b[32m     66\u001b[39m model = model_class(**model_args) \u001b[38;5;66;03m# initialize a new model for each fold\u001b[39;00m\n\u001b[32m---> \u001b[39m\u001b[32m67\u001b[39m train_results = \u001b[43mmodel\u001b[49m\u001b[43m.\u001b[49m\u001b[43mhyperparameter_tuning\u001b[49m\u001b[43m(\u001b[49m\u001b[43mx_train\u001b[49m\u001b[43m[\u001b[49m\u001b[43mtrain_idx\u001b[49m\u001b[43m]\u001b[49m\u001b[43m,\u001b[49m\u001b[43m \u001b[49m\u001b[43my_train\u001b[49m\u001b[43m[\u001b[49m\u001b[43mtrain_idx\u001b[49m\u001b[43m]\u001b[49m\u001b[43m,\u001b[49m\u001b[43m \u001b[49m\u001b[43mf_score\u001b[49m\u001b[43m,\u001b[49m\u001b[43m \u001b[49m\u001b[43mverbose\u001b[49m\u001b[43m=\u001b[49m\u001b[43mverbose\u001b[49m\u001b[43m)\u001b[49m\n\u001b[32m     68\u001b[39m model.train(x_train[train_idx], y_train[train_idx]) \u001b[38;5;66;03m# train the model\u001b[39;00m\n\u001b[32m     69\u001b[39m y_probs = model.predict(x_train[val_idx], save_scores=\u001b[38;5;28;01mTrue\u001b[39;00m, scores=\u001b[38;5;28;01mTrue\u001b[39;00m)\n",
      "\u001b[36mFile \u001b[39m\u001b[32m/data/glandorf/cs433project1/notebooks/../models.py:461\u001b[39m, in \u001b[36mhyperparameter_tuning\u001b[39m\u001b[34m(self, X, y, metric, verbose)\u001b[39m\n\u001b[32m    458\u001b[39m \u001b[38;5;28;01mdef\u001b[39;00m\u001b[38;5;250m \u001b[39m\u001b[34mtrain\u001b[39m(\u001b[38;5;28mself\u001b[39m, X, y):\n\u001b[32m    459\u001b[39m \u001b[38;5;250m    \u001b[39m\u001b[33;03m\"\"\"Train the SVM using gradient descent.\u001b[39;00m\n\u001b[32m    460\u001b[39m \u001b[33;03m    Args:\u001b[39;00m\n\u001b[32m--> \u001b[39m\u001b[32m461\u001b[39m \u001b[33;03m        X: np.ndarray of shape (N, D)\u001b[39;00m\n\u001b[32m    462\u001b[39m \u001b[33;03m        y: np.ndarray of shape (N, ), with values in {0, 1}\u001b[39;00m\n\u001b[32m    463\u001b[39m \u001b[33;03m    \u001b[39;00m\n\u001b[32m    464\u001b[39m \u001b[33;03m    Returns:\u001b[39;00m\n\u001b[32m    465\u001b[39m \u001b[33;03m        None\u001b[39;00m\n\u001b[32m    466\u001b[39m \u001b[33;03m    \"\"\"\u001b[39;00m\n\u001b[32m    467\u001b[39m     validate_data(X, y)\n\u001b[32m    469\u001b[39m     \u001b[38;5;28mself\u001b[39m.X = X \u001b[38;5;66;03m# remember X for normalization during prediction\u001b[39;00m\n",
      "\u001b[36mFile \u001b[39m\u001b[32m/data/glandorf/cs433project1/notebooks/../models.py:408\u001b[39m, in \u001b[36mgradient_step\u001b[39m\u001b[34m(self, X, y)\u001b[39m\n\u001b[32m    398\u001b[39m \u001b[38;5;28;01mdef\u001b[39;00m\u001b[38;5;250m \u001b[39m\u001b[34mhyperparameter_tuning\u001b[39m(\u001b[38;5;28mself\u001b[39m, X, y, metric=f_score, verbose=\u001b[38;5;28;01mFalse\u001b[39;00m):\n\u001b[32m    399\u001b[39m \u001b[38;5;250m    \u001b[39m\u001b[33;03m\"\"\"Tune hyperparameters using a validation set.\u001b[39;00m\n\u001b[32m    400\u001b[39m \u001b[33;03m    \u001b[39;00m\n\u001b[32m    401\u001b[39m \u001b[33;03m    Args:\u001b[39;00m\n\u001b[32m    402\u001b[39m \u001b[33;03m        X: np.ndarray of shape (N, D)\u001b[39;00m\n\u001b[32m    403\u001b[39m \u001b[33;03m        y: np.ndarray of shape (N, ), with values in {0, 1}\u001b[39;00m\n\u001b[32m    404\u001b[39m \u001b[33;03m        metric: function(pred, true) -> float, metric to optimize\u001b[39;00m\n\u001b[32m    405\u001b[39m \u001b[33;03m        verbose: bool, if True print progress messages\u001b[39;00m\n\u001b[32m    406\u001b[39m \n\u001b[32m    407\u001b[39m \u001b[33;03m    Returns:\u001b[39;00m\n\u001b[32m--> \u001b[39m\u001b[32m408\u001b[39m \u001b[33;03m        train_losses: dict mapping (_lambda, lr) to list of training losses\"\"\"\u001b[39;00m\n\u001b[32m    409\u001b[39m     X_train, y_train, X_val, y_val = test_val_split(\u001b[38;5;28mself\u001b[39m.rng, X, y)\n\u001b[32m    410\u001b[39m     \u001b[38;5;28mself\u001b[39m.X = X_train\n",
      "\u001b[36mFile \u001b[39m\u001b[32m/opt/conda/lib/python3.11/site-packages/numpy/_core/fromnumeric.py:3860\u001b[39m, in \u001b[36mmean\u001b[39m\u001b[34m(a, axis, dtype, out, keepdims, where)\u001b[39m\n\u001b[32m   3857\u001b[39m     \u001b[38;5;28;01melse\u001b[39;00m:\n\u001b[32m   3858\u001b[39m         \u001b[38;5;28;01mreturn\u001b[39;00m mean(axis=axis, dtype=dtype, out=out, **kwargs)\n\u001b[32m-> \u001b[39m\u001b[32m3860\u001b[39m \u001b[38;5;28;01mreturn\u001b[39;00m \u001b[43m_methods\u001b[49m\u001b[43m.\u001b[49m\u001b[43m_mean\u001b[49m\u001b[43m(\u001b[49m\u001b[43ma\u001b[49m\u001b[43m,\u001b[49m\u001b[43m \u001b[49m\u001b[43maxis\u001b[49m\u001b[43m=\u001b[49m\u001b[43maxis\u001b[49m\u001b[43m,\u001b[49m\u001b[43m \u001b[49m\u001b[43mdtype\u001b[49m\u001b[43m=\u001b[49m\u001b[43mdtype\u001b[49m\u001b[43m,\u001b[49m\n\u001b[32m   3861\u001b[39m \u001b[43m                      \u001b[49m\u001b[43mout\u001b[49m\u001b[43m=\u001b[49m\u001b[43mout\u001b[49m\u001b[43m,\u001b[49m\u001b[43m \u001b[49m\u001b[43m*\u001b[49m\u001b[43m*\u001b[49m\u001b[43mkwargs\u001b[49m\u001b[43m)\u001b[49m\n",
      "\u001b[36mFile \u001b[39m\u001b[32m/opt/conda/lib/python3.11/site-packages/numpy/_core/_methods.py:134\u001b[39m, in \u001b[36m_mean\u001b[39m\u001b[34m(a, axis, dtype, out, keepdims, where)\u001b[39m\n\u001b[32m    131\u001b[39m         dtype = mu.dtype(\u001b[33m'\u001b[39m\u001b[33mf4\u001b[39m\u001b[33m'\u001b[39m)\n\u001b[32m    132\u001b[39m         is_float16_result = \u001b[38;5;28;01mTrue\u001b[39;00m\n\u001b[32m--> \u001b[39m\u001b[32m134\u001b[39m ret = umr_sum(arr, axis, dtype, out, keepdims, where=where)\n\u001b[32m    135\u001b[39m \u001b[38;5;28;01mif\u001b[39;00m \u001b[38;5;28misinstance\u001b[39m(ret, mu.ndarray):\n\u001b[32m    136\u001b[39m     ret = um.true_divide(\n\u001b[32m    137\u001b[39m             ret, rcount, out=ret, casting=\u001b[33m'\u001b[39m\u001b[33munsafe\u001b[39m\u001b[33m'\u001b[39m, subok=\u001b[38;5;28;01mFalse\u001b[39;00m)\n",
      "\u001b[31mKeyboardInterrupt\u001b[39m: "
     ]
    }
   ],
   "source": [
    "model_settings = [\n",
    "    #{\"model_class\": OrdinaryLeastSquares},\n",
    "    #{\"model_class\": LogisticRegression, \"gamma\": 1e-1},\n",
    "    {\"model_class\": LinearSVM},\n",
    "    #{\"model_class\": KNearestNeighbors},\n",
    "]\n",
    "for model in model_settings:\n",
    "    print(f\"Cross-validating model: {model['model_class'].__name__}\")\n",
    "    num_samples = int(1e5) if model['model_class'] != KNearestNeighbors else int(1e5)\n",
    "    cv_results = cross_validation(x_train[:num_samples], y_train[:num_samples], verbose=True, **model)\n",
    "    print_results(cv_results)\n",
    "    if num_samples != 1e6: break\n",
    "    out_dir = \"../results\"\n",
    "    os.makedirs(out_dir, exist_ok=True)\n",
    "    out_path = os.path.join(out_dir, f\"{model['model_class'].__name__}.txt\")\n",
    "\n",
    "    with open(out_path, \"w\") as f:\n",
    "        f.write(f\"Model: {model['model_class'].__name__}\\n\\n\")\n",
    "        f.write(\"cv_results repr:\\n\")\n",
    "        f.write(repr(cv_results))\n",
    "        f.write(\"\\n\\n\")\n",
    "        f.write(\"Aggregated metrics:\\n\")\n",
    "        f.write(f\"Average F1-score: {np.mean(cv_results.f1_scores)*100:.1f}% ± {np.std(cv_results.f1_scores)*100:.1f}\\n\")\n",
    "        f.write(f\"Average F2-score: {np.mean(cv_results.f2_scores)*100:.1f}% ± {np.std(cv_results.f2_scores)*100:.1f}\\n\")\n",
    "        f.write(f\"Average AUC-ROC: {np.mean(cv_results.auc_rocs)*100:.1f}% ± {np.std(cv_results.auc_rocs)*100:.1f}\\n\")\n",
    "    "
   ]
  }
 ],
 "metadata": {
  "kernelspec": {
   "display_name": "base",
   "language": "python",
   "name": "python3"
  },
  "language_info": {
   "codemirror_mode": {
    "name": "ipython",
    "version": 3
   },
   "file_extension": ".py",
   "mimetype": "text/x-python",
   "name": "python",
   "nbconvert_exporter": "python",
   "pygments_lexer": "ipython3",
   "version": "3.11.13"
  }
 },
 "nbformat": 4,
 "nbformat_minor": 5
}
