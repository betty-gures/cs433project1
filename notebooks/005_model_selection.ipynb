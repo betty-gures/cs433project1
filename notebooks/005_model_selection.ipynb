{
 "cells": [
  {
   "cell_type": "markdown",
   "id": "d8ff706e",
   "metadata": {},
   "source": [
    "# 005: Cross Validate Models"
   ]
  },
  {
   "cell_type": "code",
   "execution_count": 14,
   "id": "8110fad0",
   "metadata": {},
   "outputs": [
    {
     "name": "stdout",
     "output_type": "stream",
     "text": [
      "The autoreload extension is already loaded. To reload it, use:\n",
      "  %reload_ext autoreload\n"
     ]
    }
   ],
   "source": [
    "import sys\n",
    "\n",
    "import numpy as np\n",
    "\n",
    "sys.path.append(\"../\")\n",
    "from metrics import f_score\n",
    "from models import OrdinaryLeastSquares, LogisticRegression, LinearSVM, KNearestNeighbors\n",
    "from model_selection import cross_validation\n",
    "\n",
    "%load_ext autoreload\n",
    "%autoreload 2"
   ]
  },
  {
   "cell_type": "code",
   "execution_count": 2,
   "id": "4b58a9e9",
   "metadata": {},
   "outputs": [],
   "source": [
    "train = np.load(\"../data/dataset_prep/train.npz\")\n",
    "x_train, y_train = train[\"x_train\"], train[\"y_train\"]"
   ]
  },
  {
   "cell_type": "code",
   "execution_count": null,
   "id": "958bc926",
   "metadata": {},
   "outputs": [],
   "source": [
    "def print_results(cv_results):\n",
    "    print(f\"Average F1-score: {np.mean(cv_results.f1_scores)*100:.1f}% ± {np.std(cv_results.f1_scores)*100:.1f}\")\n",
    "    print(f\"Average F2-score: {np.mean(cv_results.f2_scores)*100:.1f}% ± {np.std(cv_results.f2_scores)*100:.1f}\")\n",
    "    print(f\"Average AUC-ROC: {np.mean(cv_results.auc_rocs)*100:.1f}% ± {np.std(cv_results.auc_rocs)*100:.1f}\")\n",
    "    print(f\" & {np.mean(cv_results.f1_scores)*100:.1f}±{np.std(cv_results.f1_scores)*100:.1f} & \"\n",
    "          f\"{np.mean(cv_results.f2_scores)*100:.1f}±{np.std(cv_results.f2_scores)*100:.1f} & \"\n",
    "          f\"{np.mean(cv_results.auc_rocs)*100:.1f}±{np.std(cv_results.auc_rocs)*100:.1f}\")"
   ]
  },
  {
   "cell_type": "code",
   "execution_count": 23,
   "id": "06903609",
   "metadata": {},
   "outputs": [
    {
     "name": "stdout",
     "output_type": "stream",
     "text": [
      "Cross-validating model: KNearestNeighbors\n",
      "Starting fold 1/5 with 24000 samples\n",
      "Best threshold: 0.11055276381909548 with score 0.397295012679628\n",
      "Starting fold 2/5 with 24000 samples\n",
      "Best threshold: 0.09547738693467336 with score 0.37499999999999994\n",
      "Starting fold 3/5 with 24000 samples\n",
      "Best threshold: 0.11055276381909548 with score 0.3751065643648764\n",
      "Starting fold 4/5 with 24000 samples\n",
      "Best threshold: 0.09547738693467336 with score 0.36544342507645255\n",
      "Starting fold 5/5 with 24000 samples\n",
      "Best threshold: 0.10050251256281408 with score 0.347970173985087\n",
      "Average F1-score: 36.7% ± 0.9\n",
      "Average F2-score: 46.6% ± 1.4\n",
      "Average AUC-ROC: 82.5% ± 0.6\n",
      "SVM & 36.7±0.9 & 46.6±1.4 & 82.5±0.6\n"
     ]
    }
   ],
   "source": [
    "model_settings = [\n",
    "    #{\"model_class\": OrdinaryLeastSquares, \"weighting\": True, \"metric\": f_score},\n",
    "    #{\"model_class\": LogisticRegression, \"weighting\": True, \"metric\": f_score},\n",
    "    #{\"model_class\": LinearSVM},\n",
    "    {\"model_class\": KNearestNeighbors, \"metric\": f_score, \"k\": 200},\n",
    "]\n",
    "for model in model_settings:\n",
    "    print(f\"Cross-validating model: {model['model_class'].__name__}\")\n",
    "    num_samples = int(3e4)\n",
    "    print_results(cross_validation(x_train[:num_samples], y_train[:num_samples], verbose=True, **model))"
   ]
  }
 ],
 "metadata": {
  "kernelspec": {
   "display_name": "project1-dev",
   "language": "python",
   "name": "python3"
  },
  "language_info": {
   "codemirror_mode": {
    "name": "ipython",
    "version": 3
   },
   "file_extension": ".py",
   "mimetype": "text/x-python",
   "name": "python",
   "nbconvert_exporter": "python",
   "pygments_lexer": "ipython3",
   "version": "3.10.18"
  }
 },
 "nbformat": 4,
 "nbformat_minor": 5
}
