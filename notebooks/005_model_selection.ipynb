{
 "cells": [
  {
   "cell_type": "markdown",
   "id": "d8ff706e",
   "metadata": {},
   "source": [
    "# 005: Cross Validate Models"
   ]
  },
  {
   "cell_type": "code",
   "execution_count": 1,
   "id": "8110fad0",
   "metadata": {},
   "outputs": [],
   "source": [
    "import os\n",
    "import sys\n",
    "\n",
    "import numpy as np\n",
    "\n",
    "sys.path.append(\"../\")\n",
    "from models import OrdinaryLeastSquares, LogisticRegression, LinearSVM, KNearestNeighbors, DecisionTree\n",
    "from model_selection import cross_validation\n",
    "from preprocessing import preprocess, preprocess_splits\n",
    "\n",
    "%load_ext autoreload\n",
    "%autoreload 2\n",
    "\n",
    "def print_results(cv_results):\n",
    "    print(f\"Average F1-score: {np.mean(cv_results.f1_scores)*100:.1f}% ± {np.std(cv_results.f1_scores)*100:.1f}\")\n",
    "    print(f\"Average F2-score: {np.mean(cv_results.f2_scores)*100:.1f}% ± {np.std(cv_results.f2_scores)*100:.1f}\")\n",
    "    print(f\"Average AUC-ROC: {np.mean(cv_results.auc_rocs)*100:.1f}% ± {np.std(cv_results.auc_rocs)*100:.1f}\")\n",
    "    print(f\" & {np.mean(cv_results.f1_scores)*100:.1f}±{np.std(cv_results.f1_scores)*100:.1f} & \"\n",
    "          f\"{np.mean(cv_results.f2_scores)*100:.1f}±{np.std(cv_results.f2_scores)*100:.1f} & \"\n",
    "          f\"{np.mean(cv_results.auc_rocs)*100:.1f}±{np.std(cv_results.auc_rocs)*100:.1f}\")"
   ]
  },
  {
   "cell_type": "code",
   "execution_count": null,
   "id": "f45de3cb",
   "metadata": {},
   "outputs": [],
   "source": [
    "x_train, _, y_train, *_ = preprocess(one_hot_encoding=False, save_dir=\"../data/dataset_prep\")\n",
    "x_train.shape"
   ]
  },
  {
   "cell_type": "code",
   "execution_count": 3,
   "id": "4b58a9e9",
   "metadata": {},
   "outputs": [
    {
     "data": {
      "text/plain": [
       "(328135, 622)"
      ]
     },
     "execution_count": 3,
     "metadata": {},
     "output_type": "execute_result"
    }
   ],
   "source": [
    "train = np.load(\"../data/dataset_prep/train.npz\")\n",
    "x_train, y_train = train[\"x_train\"], train[\"y_train\"]\n",
    "x_train.shape"
   ]
  },
  {
   "cell_type": "code",
   "execution_count": 4,
   "id": "06903609",
   "metadata": {},
   "outputs": [
    {
     "name": "stdout",
     "output_type": "stream",
     "text": [
      "Cross-validating model: DecisionTree\n",
      "Starting fold 1/5 with 8000 samples\n",
      "depth=3, min_leaf=20 -> score=0.3585 thr=0.10\n",
      "depth=3, min_leaf=50 -> score=0.3735 thr=0.10\n",
      "depth=3, min_leaf=100 -> score=0.3851 thr=0.10\n",
      "depth=3, min_leaf=200 -> score=0.3860 thr=0.10\n",
      "depth=4, min_leaf=20 -> score=0.3891 thr=0.09\n",
      "depth=4, min_leaf=50 -> score=0.3982 thr=0.18\n",
      "depth=4, min_leaf=100 -> score=0.4038 thr=0.12\n",
      "depth=4, min_leaf=200 -> score=0.3972 thr=0.12\n",
      "depth=5, min_leaf=20 -> score=0.3741 thr=0.04\n",
      "depth=5, min_leaf=50 -> score=0.3829 thr=0.23\n",
      "depth=5, min_leaf=100 -> score=0.3841 thr=0.17\n",
      "depth=5, min_leaf=200 -> score=0.3972 thr=0.12\n",
      "depth=6, min_leaf=20 -> score=0.3762 thr=0.21\n",
      "depth=6, min_leaf=50 -> score=0.3871 thr=0.17\n",
      "depth=6, min_leaf=100 -> score=0.3841 thr=0.17\n",
      "depth=6, min_leaf=200 -> score=0.3972 thr=0.16\n",
      "depth=8, min_leaf=20 -> score=0.3583 thr=0.05\n",
      "depth=8, min_leaf=50 -> score=0.3717 thr=0.15\n",
      "depth=8, min_leaf=100 -> score=0.3794 thr=0.10\n",
      "depth=8, min_leaf=200 -> score=0.3972 thr=0.16\n",
      "depth=10, min_leaf=20 -> score=0.3313 thr=0.06\n",
      "depth=10, min_leaf=50 -> score=0.3760 thr=0.15\n",
      "depth=10, min_leaf=100 -> score=0.3794 thr=0.10\n",
      "depth=10, min_leaf=200 -> score=0.3972 thr=0.16\n",
      "Best: depth=4, min_leaf=100, thr=0.12, score=0.4038\n",
      "Fold 1 - F1: 0.3916349809885931, F2: 0.491412213740458, AUC-ROC: 0.8195446362251515\n",
      "Starting fold 2/5 with 8000 samples\n",
      "depth=3, min_leaf=20 -> score=0.3454 thr=0.10\n",
      "depth=3, min_leaf=50 -> score=0.3454 thr=0.10\n",
      "depth=3, min_leaf=100 -> score=0.3422 thr=0.17\n",
      "depth=3, min_leaf=200 -> score=0.3664 thr=0.26\n",
      "depth=4, min_leaf=20 -> score=0.3488 thr=0.30\n",
      "depth=4, min_leaf=50 -> score=0.3554 thr=0.22\n",
      "depth=4, min_leaf=100 -> score=0.3563 thr=0.31\n",
      "depth=4, min_leaf=200 -> score=0.3895 thr=0.26\n",
      "depth=5, min_leaf=20 -> score=0.3536 thr=0.14\n",
      "depth=5, min_leaf=50 -> score=0.3592 thr=0.13\n",
      "depth=5, min_leaf=100 -> score=0.3563 thr=0.31\n",
      "depth=5, min_leaf=200 -> score=0.3895 thr=0.26\n",
      "depth=6, min_leaf=20 -> score=0.3507 thr=0.14\n",
      "depth=6, min_leaf=50 -> score=0.3610 thr=0.18\n",
      "depth=6, min_leaf=100 -> score=0.3607 thr=0.23\n",
      "depth=6, min_leaf=200 -> score=0.3895 thr=0.26\n",
      "depth=8, min_leaf=20 -> score=0.3529 thr=0.30\n",
      "depth=8, min_leaf=50 -> score=0.3641 thr=0.18\n",
      "depth=8, min_leaf=100 -> score=0.3607 thr=0.23\n",
      "depth=8, min_leaf=200 -> score=0.3895 thr=0.26\n",
      "depth=10, min_leaf=20 -> score=0.3515 thr=0.30\n",
      "depth=10, min_leaf=50 -> score=0.3624 thr=0.18\n",
      "depth=10, min_leaf=100 -> score=0.3607 thr=0.23\n",
      "depth=10, min_leaf=200 -> score=0.3895 thr=0.26\n",
      "Best: depth=4, min_leaf=200, thr=0.26, score=0.3895\n",
      "Fold 2 - F1: 0.32460732984293195, F2: 0.3384279475982533, AUC-ROC: 0.802337843337979\n",
      "Starting fold 3/5 with 8000 samples\n",
      "depth=3, min_leaf=20 -> score=0.3753 thr=0.24\n",
      "depth=3, min_leaf=50 -> score=0.3753 thr=0.10\n",
      "depth=3, min_leaf=100 -> score=0.3753 thr=0.10\n",
      "depth=3, min_leaf=200 -> score=0.3707 thr=0.10\n",
      "depth=4, min_leaf=20 -> score=0.3760 thr=0.24\n",
      "depth=4, min_leaf=50 -> score=0.3765 thr=0.25\n",
      "depth=4, min_leaf=100 -> score=0.3753 thr=0.18\n",
      "depth=4, min_leaf=200 -> score=0.3707 thr=0.17\n",
      "depth=5, min_leaf=20 -> score=0.3401 thr=0.17\n",
      "depth=5, min_leaf=50 -> score=0.3725 thr=0.25\n",
      "depth=5, min_leaf=100 -> score=0.3588 thr=0.23\n",
      "depth=5, min_leaf=200 -> score=0.3647 thr=0.23\n",
      "depth=6, min_leaf=20 -> score=0.3347 thr=0.12\n",
      "depth=6, min_leaf=50 -> score=0.3503 thr=0.18\n",
      "depth=6, min_leaf=100 -> score=0.3564 thr=0.18\n"
     ]
    },
    {
     "ename": "KeyboardInterrupt",
     "evalue": "",
     "output_type": "error",
     "traceback": [
      "\u001b[31m---------------------------------------------------------------------------\u001b[39m",
      "\u001b[31mKeyboardInterrupt\u001b[39m                         Traceback (most recent call last)",
      "\u001b[36mCell\u001b[39m\u001b[36m \u001b[39m\u001b[32mIn[4]\u001b[39m\u001b[32m, line 11\u001b[39m\n\u001b[32m      9\u001b[39m \u001b[38;5;28mprint\u001b[39m(\u001b[33mf\u001b[39m\u001b[33m\"\u001b[39m\u001b[33mCross-validating model: \u001b[39m\u001b[38;5;132;01m{\u001b[39;00mmodel[\u001b[33m'\u001b[39m\u001b[33mmodel_class\u001b[39m\u001b[33m'\u001b[39m].\u001b[34m__name__\u001b[39m\u001b[38;5;132;01m}\u001b[39;00m\u001b[33m\"\u001b[39m)\n\u001b[32m     10\u001b[39m num_samples = \u001b[38;5;28mint\u001b[39m(\u001b[32m1e4\u001b[39m) \u001b[38;5;28;01mif\u001b[39;00m model[\u001b[33m'\u001b[39m\u001b[33mmodel_class\u001b[39m\u001b[33m'\u001b[39m] != KNearestNeighbors \u001b[38;5;28;01melse\u001b[39;00m \u001b[38;5;28mint\u001b[39m(\u001b[32m1e5\u001b[39m)\n\u001b[32m---> \u001b[39m\u001b[32m11\u001b[39m cv_results = \u001b[43mcross_validation\u001b[49m\u001b[43m(\u001b[49m\u001b[43mx_train\u001b[49m\u001b[43m[\u001b[49m\u001b[43m:\u001b[49m\u001b[43mnum_samples\u001b[49m\u001b[43m]\u001b[49m\u001b[43m[\u001b[49m\u001b[43m:\u001b[49m\u001b[43m,\u001b[49m\u001b[43m:\u001b[49m\u001b[32;43m321\u001b[39;49m\u001b[43m]\u001b[49m\u001b[43m,\u001b[49m\u001b[43m \u001b[49m\u001b[43my_train\u001b[49m\u001b[43m[\u001b[49m\u001b[43m:\u001b[49m\u001b[43mnum_samples\u001b[49m\u001b[43m]\u001b[49m\u001b[43m,\u001b[49m\u001b[43m \u001b[49m\u001b[43mverbose\u001b[49m\u001b[43m=\u001b[49m\u001b[38;5;28;43;01mTrue\u001b[39;49;00m\u001b[43m,\u001b[49m\u001b[43m \u001b[49m\u001b[43m*\u001b[49m\u001b[43m*\u001b[49m\u001b[43mmodel\u001b[49m\u001b[43m)\u001b[49m\n\u001b[32m     12\u001b[39m print_results(cv_results)\n\u001b[32m     13\u001b[39m \u001b[38;5;28;01mif\u001b[39;00m num_samples != \u001b[32m1e6\u001b[39m: \u001b[38;5;28;01mbreak\u001b[39;00m\n",
      "\u001b[36mFile \u001b[39m\u001b[32m/data/glandorf/cs433project1/notebooks/../model_selection.py:67\u001b[39m, in \u001b[36mcross_validation\u001b[39m\u001b[34m(x_train, y_train, model_class, num_folds, seed, verbose, scoring_groups, max_test, **model_args)\u001b[39m\n\u001b[32m     64\u001b[39m \u001b[38;5;28mprint\u001b[39m(\u001b[33mf\u001b[39m\u001b[33m\"\u001b[39m\u001b[33mStarting fold \u001b[39m\u001b[38;5;132;01m{\u001b[39;00mfold_idx\u001b[38;5;250m \u001b[39m+\u001b[38;5;250m \u001b[39m\u001b[32m1\u001b[39m\u001b[38;5;132;01m}\u001b[39;00m\u001b[33m/\u001b[39m\u001b[38;5;132;01m{\u001b[39;00mnum_folds\u001b[38;5;132;01m}\u001b[39;00m\u001b[33m with \u001b[39m\u001b[38;5;132;01m{\u001b[39;00mtrain_idx.shape[\u001b[32m0\u001b[39m]\u001b[38;5;132;01m}\u001b[39;00m\u001b[33m samples\u001b[39m\u001b[33m\"\u001b[39m)\n\u001b[32m     66\u001b[39m model = model_class(**model_args) \u001b[38;5;66;03m# initialize a new model for each fold\u001b[39;00m\n\u001b[32m---> \u001b[39m\u001b[32m67\u001b[39m train_results = \u001b[43mmodel\u001b[49m\u001b[43m.\u001b[49m\u001b[43mhyperparameter_tuning\u001b[49m\u001b[43m(\u001b[49m\u001b[43mx_train\u001b[49m\u001b[43m[\u001b[49m\u001b[43mtrain_idx\u001b[49m\u001b[43m]\u001b[49m\u001b[43m,\u001b[49m\u001b[43m \u001b[49m\u001b[43my_train\u001b[49m\u001b[43m[\u001b[49m\u001b[43mtrain_idx\u001b[49m\u001b[43m]\u001b[49m\u001b[43m,\u001b[49m\u001b[43m \u001b[49m\u001b[43mf_score\u001b[49m\u001b[43m,\u001b[49m\u001b[43m \u001b[49m\u001b[43mverbose\u001b[49m\u001b[43m=\u001b[49m\u001b[43mverbose\u001b[49m\u001b[43m)\u001b[49m\n\u001b[32m     68\u001b[39m model.train(x_train[train_idx], y_train[train_idx]) \u001b[38;5;66;03m# train the model\u001b[39;00m\n\u001b[32m     69\u001b[39m y_probs = model.predict(x_train[val_idx], save_scores=\u001b[38;5;28;01mTrue\u001b[39;00m, scores=\u001b[38;5;28;01mTrue\u001b[39;00m)\n",
      "\u001b[36mFile \u001b[39m\u001b[32m/data/glandorf/cs433project1/notebooks/../models.py:705\u001b[39m, in \u001b[36mDecisionTree.hyperparameter_tuning\u001b[39m\u001b[34m(self, X, y, metric, verbose)\u001b[39m\n\u001b[32m    703\u001b[39m \u001b[38;5;28mself\u001b[39m.max_depth, \u001b[38;5;28mself\u001b[39m.min_samples_leaf = md, ml\n\u001b[32m    704\u001b[39m \u001b[38;5;66;03m# train\u001b[39;00m\n\u001b[32m--> \u001b[39m\u001b[32m705\u001b[39m \u001b[38;5;28mself\u001b[39m.tree_ = \u001b[38;5;28;43mself\u001b[39;49m\u001b[43m.\u001b[49m\u001b[43m_build\u001b[49m\u001b[43m(\u001b[49m\u001b[43mX_tr_p\u001b[49m\u001b[43m,\u001b[49m\u001b[43m \u001b[49m\u001b[43my_tr\u001b[49m\u001b[43m,\u001b[49m\u001b[43m \u001b[49m\u001b[43mdepth\u001b[49m\u001b[43m=\u001b[49m\u001b[32;43m0\u001b[39;49m\u001b[43m)\u001b[49m\n\u001b[32m    706\u001b[39m \u001b[38;5;66;03m# val probs\u001b[39;00m\n\u001b[32m    707\u001b[39m probs = \u001b[38;5;28mself\u001b[39m.predict(X_val, scores=\u001b[38;5;28;01mTrue\u001b[39;00m)\n",
      "\u001b[36mFile \u001b[39m\u001b[32m/data/glandorf/cs433project1/notebooks/../models.py:673\u001b[39m, in \u001b[36mDecisionTree._build\u001b[39m\u001b[34m(self, X, y, depth)\u001b[39m\n\u001b[32m    670\u001b[39m \u001b[38;5;28;01mif\u001b[39;00m \u001b[38;5;28mself\u001b[39m.max_features \u001b[38;5;129;01mis\u001b[39;00m \u001b[38;5;129;01mnot\u001b[39;00m \u001b[38;5;28;01mNone\u001b[39;00m \u001b[38;5;129;01mand\u001b[39;00m \u001b[38;5;28mself\u001b[39m.max_features < d:\n\u001b[32m    671\u001b[39m     feat_idxes = \u001b[38;5;28mself\u001b[39m.rng.choice(d, size=\u001b[38;5;28mself\u001b[39m.max_features, replace=\u001b[38;5;28;01mFalse\u001b[39;00m)\n\u001b[32m--> \u001b[39m\u001b[32m673\u001b[39m j, thr, _, left_mask = \u001b[38;5;28;43mself\u001b[39;49m\u001b[43m.\u001b[49m\u001b[43m_best_split\u001b[49m\u001b[43m(\u001b[49m\u001b[43mX\u001b[49m\u001b[43m,\u001b[49m\u001b[43m \u001b[49m\u001b[43my\u001b[49m\u001b[43m,\u001b[49m\u001b[43m \u001b[49m\u001b[43mfeat_idxes\u001b[49m\u001b[43m)\u001b[49m\n\u001b[32m    674\u001b[39m \u001b[38;5;28;01mif\u001b[39;00m j \u001b[38;5;129;01mis\u001b[39;00m \u001b[38;5;28;01mNone\u001b[39;00m:\n\u001b[32m    675\u001b[39m     node[\u001b[33m\"\u001b[39m\u001b[33mtype\u001b[39m\u001b[33m\"\u001b[39m] = \u001b[33m\"\u001b[39m\u001b[33mleaf\u001b[39m\u001b[33m\"\u001b[39m\n",
      "\u001b[36mFile \u001b[39m\u001b[32m/data/glandorf/cs433project1/notebooks/../models.py:651\u001b[39m, in \u001b[36mDecisionTree._best_split\u001b[39m\u001b[34m(self, X, y, feat_idxes)\u001b[39m\n\u001b[32m    649\u001b[39m \u001b[38;5;28;01mif\u001b[39;00m nL < \u001b[38;5;28mself\u001b[39m.min_samples_leaf \u001b[38;5;129;01mor\u001b[39;00m nR < \u001b[38;5;28mself\u001b[39m.min_samples_leaf:\n\u001b[32m    650\u001b[39m     \u001b[38;5;28;01mcontinue\u001b[39;00m\n\u001b[32m--> \u001b[39m\u001b[32m651\u001b[39m giniL = \u001b[38;5;28;43mself\u001b[39;49m\u001b[43m.\u001b[49m\u001b[43m_gini\u001b[49m\u001b[43m(\u001b[49m\u001b[43my\u001b[49m\u001b[43m[\u001b[49m\u001b[43mleft_mask\u001b[49m\u001b[43m]\u001b[49m\u001b[43m)\u001b[49m\n\u001b[32m    652\u001b[39m giniR = \u001b[38;5;28mself\u001b[39m._gini(y[~left_mask])\n\u001b[32m    653\u001b[39m gini_split = (nL * giniL + nR * giniR) / n\n",
      "\u001b[36mFile \u001b[39m\u001b[32m/data/glandorf/cs433project1/notebooks/../models.py:618\u001b[39m, in \u001b[36mDecisionTree._gini\u001b[39m\u001b[34m(y)\u001b[39m\n\u001b[32m    615\u001b[39m \u001b[38;5;129m@staticmethod\u001b[39m\n\u001b[32m    616\u001b[39m \u001b[38;5;28;01mdef\u001b[39;00m\u001b[38;5;250m \u001b[39m\u001b[34m_gini\u001b[39m(y):\n\u001b[32m    617\u001b[39m     \u001b[38;5;28;01mif\u001b[39;00m y.size == \u001b[32m0\u001b[39m: \u001b[38;5;28;01mreturn\u001b[39;00m \u001b[32m0.0\u001b[39m\n\u001b[32m--> \u001b[39m\u001b[32m618\u001b[39m     p1 = \u001b[43mnp\u001b[49m\u001b[43m.\u001b[49m\u001b[43mmean\u001b[49m\u001b[43m(\u001b[49m\u001b[43my\u001b[49m\u001b[43m \u001b[49m\u001b[43m==\u001b[49m\u001b[43m \u001b[49m\u001b[32;43m1\u001b[39;49m\u001b[43m)\u001b[49m\n\u001b[32m    619\u001b[39m     \u001b[38;5;28;01mreturn\u001b[39;00m \u001b[32m2\u001b[39m * p1 * (\u001b[32m1\u001b[39m - p1)\n",
      "\u001b[36mFile \u001b[39m\u001b[32m/opt/conda/lib/python3.11/site-packages/numpy/_core/fromnumeric.py:3860\u001b[39m, in \u001b[36mmean\u001b[39m\u001b[34m(a, axis, dtype, out, keepdims, where)\u001b[39m\n\u001b[32m   3857\u001b[39m     \u001b[38;5;28;01melse\u001b[39;00m:\n\u001b[32m   3858\u001b[39m         \u001b[38;5;28;01mreturn\u001b[39;00m mean(axis=axis, dtype=dtype, out=out, **kwargs)\n\u001b[32m-> \u001b[39m\u001b[32m3860\u001b[39m \u001b[38;5;28;01mreturn\u001b[39;00m \u001b[43m_methods\u001b[49m\u001b[43m.\u001b[49m\u001b[43m_mean\u001b[49m\u001b[43m(\u001b[49m\u001b[43ma\u001b[49m\u001b[43m,\u001b[49m\u001b[43m \u001b[49m\u001b[43maxis\u001b[49m\u001b[43m=\u001b[49m\u001b[43maxis\u001b[49m\u001b[43m,\u001b[49m\u001b[43m \u001b[49m\u001b[43mdtype\u001b[49m\u001b[43m=\u001b[49m\u001b[43mdtype\u001b[49m\u001b[43m,\u001b[49m\n\u001b[32m   3861\u001b[39m \u001b[43m                      \u001b[49m\u001b[43mout\u001b[49m\u001b[43m=\u001b[49m\u001b[43mout\u001b[49m\u001b[43m,\u001b[49m\u001b[43m \u001b[49m\u001b[43m*\u001b[49m\u001b[43m*\u001b[49m\u001b[43mkwargs\u001b[49m\u001b[43m)\u001b[49m\n",
      "\u001b[36mFile \u001b[39m\u001b[32m/opt/conda/lib/python3.11/site-packages/numpy/_core/_methods.py:134\u001b[39m, in \u001b[36m_mean\u001b[39m\u001b[34m(a, axis, dtype, out, keepdims, where)\u001b[39m\n\u001b[32m    131\u001b[39m         dtype = mu.dtype(\u001b[33m'\u001b[39m\u001b[33mf4\u001b[39m\u001b[33m'\u001b[39m)\n\u001b[32m    132\u001b[39m         is_float16_result = \u001b[38;5;28;01mTrue\u001b[39;00m\n\u001b[32m--> \u001b[39m\u001b[32m134\u001b[39m ret = umr_sum(arr, axis, dtype, out, keepdims, where=where)\n\u001b[32m    135\u001b[39m \u001b[38;5;28;01mif\u001b[39;00m \u001b[38;5;28misinstance\u001b[39m(ret, mu.ndarray):\n\u001b[32m    136\u001b[39m     ret = um.true_divide(\n\u001b[32m    137\u001b[39m             ret, rcount, out=ret, casting=\u001b[33m'\u001b[39m\u001b[33munsafe\u001b[39m\u001b[33m'\u001b[39m, subok=\u001b[38;5;28;01mFalse\u001b[39;00m)\n",
      "\u001b[31mKeyboardInterrupt\u001b[39m: "
     ]
    }
   ],
   "source": [
    "model_settings = [\n",
    "    #{\"model_class\": OrdinaryLeastSquares},\n",
    "    #{\"model_class\": LogisticRegression},\n",
    "    #{\"model_class\": LinearSVM},\n",
    "    #{\"model_class\": KNearestNeighbors},\n",
    "    {\"model_class\": DecisionTree},\n",
    "]\n",
    "for model in model_settings:\n",
    "    print(f\"Cross-validating model: {model['model_class'].__name__}\")\n",
    "    num_samples = int(1e4) if model['model_class'] != KNearestNeighbors else int(1e5)\n",
    "    cv_results = cross_validation(x_train[:num_samples][:,:321], y_train[:num_samples], verbose=True, **model)\n",
    "    print_results(cv_results)\n",
    "    if num_samples != 1e6: break\n",
    "    out_dir = \"../results\"\n",
    "    os.makedirs(out_dir, exist_ok=True)\n",
    "    out_path = os.path.join(out_dir, f\"{model['model_class'].__name__}.txt\")\n",
    "\n",
    "    with open(out_path, \"w\") as f:\n",
    "        f.write(f\"Model: {model['model_class'].__name__}\\n\\n\")\n",
    "        f.write(\"cv_results repr:\\n\")\n",
    "        f.write(repr(cv_results))\n",
    "        f.write(\"\\n\\n\")\n",
    "        f.write(\"Aggregated metrics:\\n\")\n",
    "        f.write(f\"Average F1-score: {np.mean(cv_results.f1_scores)*100:.1f}% ± {np.std(cv_results.f1_scores)*100:.1f}\\n\")\n",
    "        f.write(f\"Average F2-score: {np.mean(cv_results.f2_scores)*100:.1f}% ± {np.std(cv_results.f2_scores)*100:.1f}\\n\")\n",
    "        f.write(f\"Average AUC-ROC: {np.mean(cv_results.auc_rocs)*100:.1f}% ± {np.std(cv_results.auc_rocs)*100:.1f}\\n\")\n",
    "    "
   ]
  },
  {
   "cell_type": "code",
   "execution_count": null,
   "id": "81032daf",
   "metadata": {},
   "outputs": [],
   "source": [
    "& 41.8±0.2 & 48.7±0.7 & 85.4±0.4"
   ]
  }
 ],
 "metadata": {
  "kernelspec": {
   "display_name": "base",
   "language": "python",
   "name": "python3"
  },
  "language_info": {
   "codemirror_mode": {
    "name": "ipython",
    "version": 3
   },
   "file_extension": ".py",
   "mimetype": "text/x-python",
   "name": "python",
   "nbconvert_exporter": "python",
   "pygments_lexer": "ipython3",
   "version": "3.11.13"
  }
 },
 "nbformat": 4,
 "nbformat_minor": 5
}
