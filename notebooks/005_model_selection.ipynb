{
 "cells": [
  {
   "cell_type": "markdown",
   "id": "d8ff706e",
   "metadata": {},
   "source": [
    "# 005: Cross Validate Models"
   ]
  },
  {
   "cell_type": "code",
   "execution_count": 1,
   "id": "8110fad0",
   "metadata": {},
   "outputs": [],
   "source": [
    "import sys\n",
    "\n",
    "import numpy as np\n",
    "\n",
    "sys.path.append(\"../\")\n",
    "from metrics import f_score\n",
    "from models import OrdinaryLeastSquares, LogisticRegression, LinearSVM, KNearestNeighbors\n",
    "from model_selection import cross_validation\n",
    "\n",
    "%load_ext autoreload\n",
    "%autoreload 2"
   ]
  },
  {
   "cell_type": "code",
   "execution_count": 13,
   "id": "4b58a9e9",
   "metadata": {},
   "outputs": [],
   "source": [
    "train = np.load(\"../data/dataset_prep/train.npz\")\n",
    "x_train, y_train = train[\"x_train\"], train[\"y_train\"]"
   ]
  },
  {
   "cell_type": "code",
   "execution_count": 3,
   "id": "958bc926",
   "metadata": {},
   "outputs": [],
   "source": [
    "def print_results(cv_results):\n",
    "    print(f\"Average F1-score: {np.mean(cv_results.f1_scores)*100:.1f}% ± {np.std(cv_results.f1_scores)*100:.1f}\")\n",
    "    print(f\"Average F2-score: {np.mean(cv_results.f2_scores)*100:.1f}% ± {np.std(cv_results.f2_scores)*100:.1f}\")\n",
    "    print(f\"Average AUC-ROC: {np.mean(cv_results.auc_rocs)*100:.1f}% ± {np.std(cv_results.auc_rocs)*100:.1f}\")\n",
    "    print(f\" & {np.mean(cv_results.f1_scores)*100:.1f}±{np.std(cv_results.f1_scores)*100:.1f} & \"\n",
    "          f\"{np.mean(cv_results.f2_scores)*100:.1f}±{np.std(cv_results.f2_scores)*100:.1f} & \"\n",
    "          f\"{np.mean(cv_results.auc_rocs)*100:.1f}±{np.std(cv_results.auc_rocs)*100:.1f}\")"
   ]
  },
  {
   "cell_type": "code",
   "execution_count": 19,
   "id": "06903609",
   "metadata": {},
   "outputs": [
    {
     "name": "stdout",
     "output_type": "stream",
     "text": [
      "Cross-validating model: OrdinaryLeastSquares\n",
      "Starting fold 1/5 with 80000 samples\n",
      "Starting fold 2/5 with 80000 samples\n",
      "Starting fold 3/5 with 80000 samples\n",
      "Starting fold 4/5 with 80000 samples\n",
      "Starting fold 5/5 with 80000 samples\n",
      "Average F1-score: 40.1% ± 2.3\n",
      "Average F2-score: 46.4% ± 2.5\n",
      "Average AUC-ROC: 84.1% ± 2.1\n",
      " & 40.1±2.3 & 46.4±2.5 & 84.1±2.1\n",
      "Cross-validating model: LogisticRegression\n",
      "Starting fold 1/5 with 80000 samples\n",
      "Starting fold 2/5 with 80000 samples\n",
      "Starting fold 3/5 with 80000 samples\n",
      "Starting fold 4/5 with 80000 samples\n",
      "Starting fold 5/5 with 80000 samples\n",
      "Average F1-score: 41.9% ± 0.4\n",
      "Average F2-score: 46.0% ± 1.5\n",
      "Average AUC-ROC: 85.7% ± 0.3\n",
      " & 41.9±0.4 & 46.0±1.5 & 85.7±0.3\n",
      "Cross-validating model: LinearSVM\n",
      "Starting fold 1/5 with 80000 samples\n",
      "Starting fold 2/5 with 80000 samples\n",
      "Starting fold 3/5 with 80000 samples\n",
      "Starting fold 4/5 with 80000 samples\n",
      "Starting fold 5/5 with 80000 samples\n",
      "Average F1-score: 34.2% ± 0.5\n",
      "Average F2-score: 51.3% ± 0.5\n",
      "Average AUC-ROC: 82.9% ± 0.3\n",
      " & 34.2±0.5 & 51.3±0.5 & 82.9±0.3\n",
      "Cross-validating model: KNearestNeighbors\n",
      "Starting fold 1/5 with 8000 samples\n",
      "Starting fold 2/5 with 8000 samples\n",
      "Starting fold 3/5 with 8000 samples\n",
      "Starting fold 4/5 with 8000 samples\n",
      "Starting fold 5/5 with 8000 samples\n"
     ]
    },
    {
     "name": "stderr",
     "output_type": "stream",
     "text": [
      "/Users/dominikglandorf/Code/EPFL/cs433project1/notebooks/../preprocessing.py:80: RuntimeWarning: Mean of empty slice\n",
      "  col_means = np.nanmean(train, axis=0)\n"
     ]
    },
    {
     "name": "stdout",
     "output_type": "stream",
     "text": [
      "Average F1-score: 36.1% ± 2.1\n",
      "Average F2-score: 47.2% ± 2.3\n",
      "Average AUC-ROC: 82.1% ± 1.2\n",
      " & 36.1±2.1 & 47.2±2.3 & 82.1±1.2\n"
     ]
    }
   ],
   "source": [
    "model_settings = [\n",
    "    {\"model_class\": OrdinaryLeastSquares},\n",
    "    {\"model_class\": LogisticRegression},\n",
    "    {\"model_class\": LinearSVM},\n",
    "    {\"model_class\": KNearestNeighbors},\n",
    "]\n",
    "for model in model_settings:\n",
    "    print(f\"Cross-validating model: {model['model_class'].__name__}\")\n",
    "    num_samples = int(1e5) if model['model_class'] != KNearestNeighbors else int(1e4)\n",
    "    print_results(cross_validation(x_train[:num_samples], y_train[:num_samples], verbose=False, **model))"
   ]
  }
 ],
 "metadata": {
  "kernelspec": {
   "display_name": "project1-dev",
   "language": "python",
   "name": "python3"
  },
  "language_info": {
   "codemirror_mode": {
    "name": "ipython",
    "version": 3
   },
   "file_extension": ".py",
   "mimetype": "text/x-python",
   "name": "python",
   "nbconvert_exporter": "python",
   "pygments_lexer": "ipython3",
   "version": "3.10.18"
  }
 },
 "nbformat": 4,
 "nbformat_minor": 5
}
