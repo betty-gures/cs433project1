{
 "cells": [
  {
   "cell_type": "code",
   "execution_count": 1,
   "id": "315e97eb",
   "metadata": {},
   "outputs": [
    {
     "name": "stdout",
     "output_type": "stream",
     "text": [
      "Loading raw data...\n"
     ]
    }
   ],
   "source": [
    "import os\n",
    "\n",
    "import numpy as np\n",
    "\n",
    "from helpers import create_csv_submission\n",
    "from metrics import f_score\n",
    "from models import LogisticRegression\n",
    "from preprocessing import preprocess\n",
    "\n",
    "%load_ext autoreload\n",
    "%autoreload 2\n"
   ]
  },
  {
   "cell_type": "code",
   "execution_count": 2,
   "id": "4696e7bb",
   "metadata": {},
   "outputs": [
    {
     "name": "stdout",
     "output_type": "stream",
     "text": [
      "Replacing missing value codes with np.nan...\n",
      "Applying one-hot encoding...\n",
      "Imputing missing values...\n",
      "Removing invariant features...\n"
     ]
    }
   ],
   "source": [
    "# Preprocess the data\n",
    "x_train, x_test, y_train, test_ids = preprocess(MAX_ONE_HOT_CATEGORIES=100)"
   ]
  },
  {
   "cell_type": "code",
   "execution_count": 3,
   "id": "376c5627",
   "metadata": {},
   "outputs": [
    {
     "name": "stdout",
     "output_type": "stream",
     "text": [
      "Training model...\n"
     ]
    }
   ],
   "source": [
    "\n",
    "# Initialize and train the model\n",
    "print(\"Training model...\")\n",
    "model = LogisticRegression(metric=f_score, max_iter=500)\n",
    "model.train(X=x_train, y=y_train)\n",
    "\n",
    "# Make predictions on the test set\n",
    "predictions = model.predict(x_test)\n"
   ]
  },
  {
   "cell_type": "code",
   "execution_count": 4,
   "id": "9d9155c7",
   "metadata": {},
   "outputs": [],
   "source": [
    "\n",
    "# Convert to -1 and 1\n",
    "predictions = np.where(predictions == 1, 1, -1)\n",
    "\n",
    "# Create submission file\n",
    "os.makedirs(\"data/submissions\", exist_ok=True)\n",
    "create_csv_submission(test_ids, predictions, \"data/submissions/logistic_regression_one_hot.csv\")"
   ]
  }
 ],
 "metadata": {
  "kernelspec": {
   "display_name": "project1-dev",
   "language": "python",
   "name": "python3"
  },
  "language_info": {
   "codemirror_mode": {
    "name": "ipython",
    "version": 3
   },
   "file_extension": ".py",
   "mimetype": "text/x-python",
   "name": "python",
   "nbconvert_exporter": "python",
   "pygments_lexer": "ipython3",
   "version": "3.10.18"
  }
 },
 "nbformat": 4,
 "nbformat_minor": 5
}
